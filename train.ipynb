{
 "nbformat": 4,
 "nbformat_minor": 0,
 "metadata": {
  "colab": {
   "name": "Untitled0.ipynb",
   "provenance": [],
   "collapsed_sections": []
  },
  "kernelspec": {
   "name": "python3",
   "display_name": "Python 3"
  },
  "language_info": {
   "name": "python"
  }
 },
 "cells": [
  {
   "cell_type": "markdown",
   "source": [
    "# Building and running"
   ],
   "metadata": {
    "collapsed": false,
    "pycharm": {
     "name": "#%% md\n"
    }
   }
  },
  {
   "cell_type": "code",
   "execution_count": 1,
   "outputs": [],
   "source": [
    "import pandas as pd\n",
    "import numpy as np\n",
    "import cv2\n",
    "import hashlib\n",
    "\n",
    "from tensorflow import keras\n",
    "\n",
    "from sklearn.model_selection import train_test_split\n",
    "from matplotlib import pyplot as plt"
   ],
   "metadata": {
    "collapsed": false,
    "pycharm": {
     "name": "#%%\n"
    }
   }
  },
  {
   "cell_type": "markdown",
   "source": [
    "## Load and prepare dataset\n",
    "The dataset is composed by:\n",
    " * CSV with the labeling\n",
    " * Image folder with all the images normalized"
   ],
   "metadata": {
    "collapsed": false,
    "pycharm": {
     "name": "#%% md\n"
    }
   }
  },
  {
   "cell_type": "code",
   "execution_count": 2,
   "outputs": [],
   "source": [
    "dataset_folder = 'normalized_data_set_diagrams/'\n",
    "labeled_csv = 'csv/scrapped_images.csv'"
   ],
   "metadata": {
    "collapsed": false,
    "pycharm": {
     "name": "#%%\n"
    }
   }
  },
  {
   "cell_type": "code",
   "execution_count": 3,
   "outputs": [],
   "source": [
    "map_to_name = {}\n",
    "\n",
    "\n",
    "def load_dataset(dataset_folder_path, csv_path):\n",
    "    \"\"\"Loads a dataset of images\n",
    "        - dataset_folder_path is the path of the folder that contains the images\n",
    "        - csv_path is the path of the CSV file that contains the labels of the images\n",
    "        Returns: X_data, y_labeled\n",
    "        - X_data is a numpy.ndarray containing the pixel data of an image X\n",
    "        - y_labeled is a numpy.ndarray containing an int, the label Y for the image X in that index\n",
    "    \"\"\"\n",
    "    X_data = []\n",
    "\n",
    "    data = pd.read_csv(csv_path, dtype={\"Name\": str, \"Category\": np.uint8})\n",
    "\n",
    "    for image_name in data.Name:\n",
    "        img = cv2.imread(dataset_folder_path + image_name, cv2.IMREAD_COLOR)\n",
    "        hash = hashlib.sha1(img).hexdigest()[:15]\n",
    "        img = cv2.cvtColor(img, cv2.COLOR_RGB2BGR)\n",
    "        map_to_name[hash] = image_name\n",
    "        X_data.append(img)\n",
    "\n",
    "    X_data = np.array(X_data)\n",
    "    y_labeled = np.array(data.Category)\n",
    "\n",
    "    print(\"Data loaded\\n\", data)\n",
    "    return X_data, y_labeled"
   ],
   "metadata": {
    "collapsed": false,
    "pycharm": {
     "name": "#%%\n"
    }
   }
  },
  {
   "cell_type": "code",
   "source": [
    "def preprocess_data(x, y, m):\n",
    "    \"\"\"Pre-processes the data for the model\n",
    "        - x is a numpy.ndarray of shape (m, 224, 224, 3) containing\n",
    "         a list of image pixels, where m is the number of images\n",
    "        - y is a numpy.ndarray of shape (m,) containing\n",
    "         the labels for x\n",
    "        - m is the number of categories in the classifier\n",
    "        Returns: X_p, Y_p\n",
    "        - X_p is a numpy.ndarray containing the preprocessed X\n",
    "        - Y_p is a numpy.ndarray containing the preprocessed Y\n",
    "    \"\"\"\n",
    "    X_p = keras.applications.densenet.preprocess_input(x)\n",
    "\n",
    "    y_p = keras.utils.to_categorical(y, m)\n",
    "\n",
    "    return X_p, y_p"
   ],
   "metadata": {
    "id": "w3K893oYu-Yo",
    "pycharm": {
     "name": "#%%\n"
    }
   },
   "execution_count": 4,
   "outputs": []
  },
  {
   "cell_type": "code",
   "source": [
    "X_full, y_full = load_dataset(dataset_folder, labeled_csv)\n",
    "X_full_p, y_full_p = preprocess_data(X_full, y_full, 7)"
   ],
   "metadata": {
    "colab": {
     "base_uri": "https://localhost:8080/"
    },
    "id": "I5-LOFYMvMor",
    "outputId": "4fb00371-21b1-4122-932e-e8988fb21fea",
    "pycharm": {
     "name": "#%%\n"
    }
   },
   "execution_count": 5,
   "outputs": [
    {
     "name": "stdout",
     "output_type": "stream",
     "text": [
      "Data loaded\n",
      "                      Name  Category\n",
      "0     7a668879d103ba8.jpg         1\n",
      "1     4bab7d342c24e3f.jpg         1\n",
      "2     d6c5e6d46cbbb26.jpg         1\n",
      "3     e215c30192cc297.jpg         1\n",
      "4     0fd2b9ef096d9cb.jpg         1\n",
      "...                   ...       ...\n",
      "5551  d2254621efd8d52.jpg         0\n",
      "5552  de2268621d5e911.jpg         0\n",
      "5553  90fe34f3f8107ee.jpg         0\n",
      "5554  f065035fafcf430.jpg         0\n",
      "5555  30efd0c8a1649e1.jpg         0\n",
      "\n",
      "[5556 rows x 2 columns]\n"
     ]
    }
   ]
  },
  {
   "cell_type": "markdown",
   "source": [
    "## Building DenseNet169"
   ],
   "metadata": {
    "collapsed": false,
    "pycharm": {
     "name": "#%% md\n"
    }
   }
  },
  {
   "cell_type": "code",
   "execution_count": 6,
   "outputs": [],
   "source": [
    "input_shape_densenet = (224, 224, 3)"
   ],
   "metadata": {
    "collapsed": false,
    "pycharm": {
     "name": "#%%\n"
    }
   }
  },
  {
   "cell_type": "code",
   "execution_count": 7,
   "outputs": [],
   "source": [
    "def build_network(trainable: bool):\n",
    "    \"\"\"Pre-processes the data for the model\n",
    "        Returns: densenet_model\n",
    "        - densenet_model is a\n",
    "    \"\"\"\n",
    "    densenet_model = keras.applications.DenseNet169(\n",
    "        include_top=False,\n",
    "        weights=\"imagenet\",\n",
    "        input_tensor=None,\n",
    "        input_shape=input_shape_densenet,\n",
    "        pooling=None\n",
    "    )\n",
    "    densenet_model.trainable = trainable\n",
    "    if trainable:\n",
    "        for layer in densenet_model.layers:\n",
    "            if 'conv5' in layer.name:\n",
    "                layer.trainable = True\n",
    "            else:\n",
    "                layer.trainable = False\n",
    "\n",
    "    return densenet_model"
   ],
   "metadata": {
    "collapsed": false,
    "pycharm": {
     "name": "#%%\n"
    }
   }
  },
  {
   "cell_type": "markdown",
   "source": [
    "### Add new layers"
   ],
   "metadata": {
    "collapsed": false,
    "pycharm": {
     "name": "#%% md\n"
    }
   }
  },
  {
   "cell_type": "code",
   "execution_count": 8,
   "outputs": [],
   "source": [
    "def add_extra_layers(densenet_model, layer_size: int, dropout: bool, number_of_layers: int):\n",
    "    \"\"\"Add extra layers to a Keras model for transfer learning.\n",
    "        - densenet_model is a pre-trained Keras model with input (224, 224, 3)\n",
    "        - layer_size is an int, the size of the first Dense layer\n",
    "        - dropout is a bool, indicating if a Dropout layer will be added\n",
    "          between Dense layers\n",
    "        Returns: model\n",
    "        - model a Keras model with the layer added\n",
    "    \"\"\"\n",
    "    initializer = keras.initializers.he_normal(seed=32)\n",
    "    inputs = keras.Input(shape=input_shape_densenet)\n",
    "\n",
    "    layer = densenet_model(inputs)\n",
    "    layer = keras.layers.Flatten()(layer)\n",
    "\n",
    "    layer = keras.layers.BatchNormalization()(layer)\n",
    "\n",
    "    for n in range(1, number_of_layers+1):\n",
    "        layer = keras.layers.Dense(units=layer_size/n,\n",
    "                                   activation='relu',\n",
    "                                   kernel_initializer=initializer\n",
    "                                   )(layer)\n",
    "        if dropout:\n",
    "            layer = keras.layers.Dropout(0.5)(layer)\n",
    "\n",
    "        layer = keras.layers.BatchNormalization()(layer)\n",
    "\n",
    "\n",
    "    layer = keras.layers.Dense(units=7,\n",
    "                               activation='softmax',\n",
    "                               kernel_initializer=initializer\n",
    "                               )(layer)\n",
    "\n",
    "    model = keras.models.Model(inputs, outputs=layer)\n",
    "    model.summary()\n",
    "\n",
    "    return model"
   ],
   "metadata": {
    "collapsed": false,
    "pycharm": {
     "name": "#%%\n"
    }
   }
  },
  {
   "cell_type": "markdown",
   "source": [
    "### Validating the results"
   ],
   "metadata": {
    "collapsed": false,
    "pycharm": {
     "name": "#%% md\n"
    }
   }
  },
  {
   "cell_type": "code",
   "execution_count": 9,
   "outputs": [],
   "source": [
    "def train_with_k_fold_cross_validation(n_folds: int, layer_size: int, trainable: bool, dropout: bool, number_of_layers: int):\n",
    "    \"\"\"Create and train a DenseNet model n_folds times with a different training/validation partition data.\n",
    "        - n_folds the number of times the model will be trained\n",
    "        - layer_size is an int, the size of the first Dense layer\n",
    "        - trainable ia a bool, indicating if the last layer of the original model cold be re-trainable\n",
    "        - dropout is a bool, indicating if a Dropout layer will be added\n",
    "          between Dense layers\n",
    "        Returns: histories\n",
    "        - histories a list of size n_folds with the detailed training history of each attempt\n",
    "    \"\"\"\n",
    "    histories = []\n",
    "    for fold in range(n_folds):\n",
    "        network = build_network(trainable)\n",
    "        network = add_extra_layers(network, layer_size, dropout, number_of_layers)\n",
    "        network.compile(loss='categorical_crossentropy',\n",
    "                        optimizer=keras.optimizers.Adam(),\n",
    "                        metrics=['accuracy'])\n",
    "\n",
    "        X_train, X_val, y_train, y_val = train_test_split(X_full_p, y_full_p, test_size=0.2, random_state=fold * 5)\n",
    "        history = network.fit(X_train, y_train, epochs=10, validation_data=(X_val, y_val), verbose=1)\n",
    "        del network\n",
    "        histories.append(history)\n",
    "\n",
    "    return histories"
   ],
   "metadata": {
    "collapsed": false,
    "pycharm": {
     "name": "#%%\n"
    }
   }
  },
  {
   "cell_type": "code",
   "source": [
    "def train_with_simple_holdout_validation(X_train, X_val, y_train, y_val):\n",
    "    network = build_network(True)\n",
    "    network = add_extra_layers(network, 128, True, 1)\n",
    "    network.compile(loss='categorical_crossentropy',\n",
    "                        optimizer=keras.optimizers.Adam(),\n",
    "                        metrics=['accuracy'])\n",
    "\n",
    "    history = network.fit(X_train, y_train, epochs=10, validation_data=(X_val, y_val), verbose=1)\n",
    "\n",
    "    network.save('diagrams.h5')\n",
    "    return network"
   ],
   "metadata": {
    "colab": {
     "base_uri": "https://localhost:8080/"
    },
    "id": "eeuAlqtRwJpa",
    "outputId": "1cd3f7ad-5b33-4a5c-cee6-3953ad3ef852",
    "pycharm": {
     "name": "#%%\n"
    }
   },
   "execution_count": 10,
   "outputs": []
  },
  {
   "cell_type": "markdown",
   "source": [
    "### Running the model"
   ],
   "metadata": {
    "collapsed": false,
    "pycharm": {
     "name": "#%% md\n"
    }
   }
  },
  {
   "cell_type": "code",
   "execution_count": 11,
   "outputs": [
    {
     "name": "stdout",
     "output_type": "stream",
     "text": [
      "Metal device set to: Apple M1 Pro\n"
     ]
    },
    {
     "name": "stderr",
     "output_type": "stream",
     "text": [
      "2022-07-01 03:42:34.827201: I tensorflow/core/common_runtime/pluggable_device/pluggable_device_factory.cc:305] Could not identify NUMA node of platform GPU ID 0, defaulting to 0. Your kernel may not have been built with NUMA support.\n",
      "2022-07-01 03:42:34.827406: I tensorflow/core/common_runtime/pluggable_device/pluggable_device_factory.cc:271] Created TensorFlow device (/job:localhost/replica:0/task:0/device:GPU:0 with 0 MB memory) -> physical PluggableDevice (device: 0, name: METAL, pci bus id: <undefined>)\n"
     ]
    },
    {
     "name": "stdout",
     "output_type": "stream",
     "text": [
      "Model: \"model\"\n",
      "_________________________________________________________________\n",
      " Layer (type)                Output Shape              Param #   \n",
      "=================================================================\n",
      " input_2 (InputLayer)        [(None, 224, 224, 3)]     0         \n",
      "                                                                 \n",
      " densenet169 (Functional)    (None, 7, 7, 1664)        12642880  \n",
      "                                                                 \n",
      " flatten (Flatten)           (None, 81536)             0         \n",
      "                                                                 \n",
      " batch_normalization (BatchN  (None, 81536)            326144    \n",
      " ormalization)                                                   \n",
      "                                                                 \n",
      " dense (Dense)               (None, 7)                 570759    \n",
      "                                                                 \n",
      "=================================================================\n",
      "Total params: 13,539,783\n",
      "Trainable params: 6,647,431\n",
      "Non-trainable params: 6,892,352\n",
      "_________________________________________________________________\n",
      "Epoch 1/10\n"
     ]
    },
    {
     "name": "stderr",
     "output_type": "stream",
     "text": [
      "2022-07-01 03:42:42.151358: W tensorflow/core/platform/profile_utils/cpu_utils.cc:128] Failed to get CPU frequency: 0 Hz\n",
      "2022-07-01 03:42:47.894207: I tensorflow/core/grappler/optimizers/custom_graph_optimizer_registry.cc:113] Plugin optimizer for device_type GPU is enabled.\n"
     ]
    },
    {
     "name": "stdout",
     "output_type": "stream",
     "text": [
      "139/139 [==============================] - ETA: 0s - loss: 1.3104 - accuracy: 0.8672"
     ]
    },
    {
     "name": "stderr",
     "output_type": "stream",
     "text": [
      "2022-07-01 03:43:35.510742: I tensorflow/core/grappler/optimizers/custom_graph_optimizer_registry.cc:113] Plugin optimizer for device_type GPU is enabled.\n"
     ]
    },
    {
     "name": "stdout",
     "output_type": "stream",
     "text": [
      "139/139 [==============================] - 64s 397ms/step - loss: 1.3104 - accuracy: 0.8672 - val_loss: 2.2000 - val_accuracy: 0.8948\n",
      "Epoch 2/10\n",
      "139/139 [==============================] - 50s 362ms/step - loss: 0.6981 - accuracy: 0.9406 - val_loss: 0.9836 - val_accuracy: 0.9379\n",
      "Epoch 3/10\n",
      "139/139 [==============================] - 50s 361ms/step - loss: 0.4996 - accuracy: 0.9615 - val_loss: 1.1552 - val_accuracy: 0.9397\n",
      "Epoch 4/10\n",
      "139/139 [==============================] - 50s 358ms/step - loss: 0.3450 - accuracy: 0.9705 - val_loss: 1.1894 - val_accuracy: 0.9281\n",
      "Epoch 5/10\n",
      "139/139 [==============================] - 50s 356ms/step - loss: 0.3467 - accuracy: 0.9685 - val_loss: 1.5678 - val_accuracy: 0.9424\n",
      "Epoch 6/10\n",
      "139/139 [==============================] - 49s 356ms/step - loss: 0.3135 - accuracy: 0.9755 - val_loss: 1.2610 - val_accuracy: 0.9442\n",
      "Epoch 7/10\n",
      "139/139 [==============================] - 50s 358ms/step - loss: 0.2795 - accuracy: 0.9793 - val_loss: 1.0787 - val_accuracy: 0.9622\n",
      "Epoch 8/10\n",
      "139/139 [==============================] - 50s 358ms/step - loss: 0.3067 - accuracy: 0.9795 - val_loss: 0.9606 - val_accuracy: 0.9595\n",
      "Epoch 9/10\n",
      "139/139 [==============================] - 50s 357ms/step - loss: 0.2216 - accuracy: 0.9824 - val_loss: 1.2923 - val_accuracy: 0.9577\n",
      "Epoch 10/10\n",
      "139/139 [==============================] - 49s 355ms/step - loss: 0.1678 - accuracy: 0.9885 - val_loss: 1.1915 - val_accuracy: 0.9622\n",
      "Model: \"model_1\"\n",
      "_________________________________________________________________\n",
      " Layer (type)                Output Shape              Param #   \n",
      "=================================================================\n",
      " input_4 (InputLayer)        [(None, 224, 224, 3)]     0         \n",
      "                                                                 \n",
      " densenet169 (Functional)    (None, 7, 7, 1664)        12642880  \n",
      "                                                                 \n",
      " flatten_1 (Flatten)         (None, 81536)             0         \n",
      "                                                                 \n",
      " batch_normalization_1 (Batc  (None, 81536)            326144    \n",
      " hNormalization)                                                 \n",
      "                                                                 \n",
      " dense_1 (Dense)             (None, 7)                 570759    \n",
      "                                                                 \n",
      "=================================================================\n",
      "Total params: 13,539,783\n",
      "Trainable params: 6,647,431\n",
      "Non-trainable params: 6,892,352\n",
      "_________________________________________________________________\n",
      "Epoch 1/10\n"
     ]
    },
    {
     "name": "stderr",
     "output_type": "stream",
     "text": [
      "2022-07-01 03:51:27.893821: I tensorflow/core/grappler/optimizers/custom_graph_optimizer_registry.cc:113] Plugin optimizer for device_type GPU is enabled.\n"
     ]
    },
    {
     "name": "stdout",
     "output_type": "stream",
     "text": [
      "139/139 [==============================] - ETA: 0s - loss: 1.2714 - accuracy: 0.8670"
     ]
    },
    {
     "name": "stderr",
     "output_type": "stream",
     "text": [
      "2022-07-01 03:52:16.504415: I tensorflow/core/grappler/optimizers/custom_graph_optimizer_registry.cc:113] Plugin optimizer for device_type GPU is enabled.\n"
     ]
    },
    {
     "name": "stdout",
     "output_type": "stream",
     "text": [
      "139/139 [==============================] - 65s 400ms/step - loss: 1.2714 - accuracy: 0.8670 - val_loss: 2.2384 - val_accuracy: 0.8822\n",
      "Epoch 2/10\n",
      "139/139 [==============================] - 52s 373ms/step - loss: 0.7508 - accuracy: 0.9365 - val_loss: 1.4627 - val_accuracy: 0.9083\n",
      "Epoch 3/10\n",
      "139/139 [==============================] - 50s 362ms/step - loss: 0.4823 - accuracy: 0.9584 - val_loss: 0.9669 - val_accuracy: 0.9415\n",
      "Epoch 4/10\n",
      "139/139 [==============================] - 51s 363ms/step - loss: 0.3628 - accuracy: 0.9678 - val_loss: 1.1263 - val_accuracy: 0.9397\n",
      "Epoch 5/10\n",
      "139/139 [==============================] - 50s 362ms/step - loss: 0.4414 - accuracy: 0.9678 - val_loss: 1.0367 - val_accuracy: 0.9487\n",
      "Epoch 6/10\n",
      "139/139 [==============================] - 50s 361ms/step - loss: 0.2699 - accuracy: 0.9768 - val_loss: 1.0676 - val_accuracy: 0.9451\n",
      "Epoch 7/10\n",
      "139/139 [==============================] - 50s 359ms/step - loss: 0.3214 - accuracy: 0.9779 - val_loss: 1.4044 - val_accuracy: 0.9433\n",
      "Epoch 8/10\n",
      "139/139 [==============================] - 50s 362ms/step - loss: 0.1624 - accuracy: 0.9863 - val_loss: 1.2398 - val_accuracy: 0.9568\n",
      "Epoch 9/10\n",
      "139/139 [==============================] - 52s 375ms/step - loss: 0.2088 - accuracy: 0.9831 - val_loss: 0.9894 - val_accuracy: 0.9595\n",
      "Epoch 10/10\n",
      "139/139 [==============================] - 50s 356ms/step - loss: 0.2107 - accuracy: 0.9845 - val_loss: 1.0396 - val_accuracy: 0.9604\n",
      "Model: \"model_2\"\n",
      "_________________________________________________________________\n",
      " Layer (type)                Output Shape              Param #   \n",
      "=================================================================\n",
      " input_6 (InputLayer)        [(None, 224, 224, 3)]     0         \n",
      "                                                                 \n",
      " densenet169 (Functional)    (None, 7, 7, 1664)        12642880  \n",
      "                                                                 \n",
      " flatten_2 (Flatten)         (None, 81536)             0         \n",
      "                                                                 \n",
      " batch_normalization_2 (Batc  (None, 81536)            326144    \n",
      " hNormalization)                                                 \n",
      "                                                                 \n",
      " dense_2 (Dense)             (None, 7)                 570759    \n",
      "                                                                 \n",
      "=================================================================\n",
      "Total params: 13,539,783\n",
      "Trainable params: 6,647,431\n",
      "Non-trainable params: 6,892,352\n",
      "_________________________________________________________________\n",
      "Epoch 1/10\n"
     ]
    },
    {
     "name": "stderr",
     "output_type": "stream",
     "text": [
      "2022-07-01 04:00:19.831287: I tensorflow/core/grappler/optimizers/custom_graph_optimizer_registry.cc:113] Plugin optimizer for device_type GPU is enabled.\n"
     ]
    },
    {
     "name": "stdout",
     "output_type": "stream",
     "text": [
      "139/139 [==============================] - ETA: 0s - loss: 1.3559 - accuracy: 0.8668"
     ]
    },
    {
     "name": "stderr",
     "output_type": "stream",
     "text": [
      "2022-07-01 04:01:10.994475: I tensorflow/core/grappler/optimizers/custom_graph_optimizer_registry.cc:113] Plugin optimizer for device_type GPU is enabled.\n"
     ]
    },
    {
     "name": "stdout",
     "output_type": "stream",
     "text": [
      "139/139 [==============================] - 70s 420ms/step - loss: 1.3559 - accuracy: 0.8668 - val_loss: 3.2872 - val_accuracy: 0.8570\n",
      "Epoch 2/10\n",
      "139/139 [==============================] - 51s 367ms/step - loss: 0.6553 - accuracy: 0.9431 - val_loss: 0.9922 - val_accuracy: 0.9451\n",
      "Epoch 3/10\n",
      "139/139 [==============================] - 50s 362ms/step - loss: 0.4454 - accuracy: 0.9602 - val_loss: 1.2441 - val_accuracy: 0.9308\n",
      "Epoch 4/10\n",
      "139/139 [==============================] - 51s 367ms/step - loss: 0.3822 - accuracy: 0.9667 - val_loss: 1.3576 - val_accuracy: 0.9487\n",
      "Epoch 5/10\n",
      "139/139 [==============================] - 50s 359ms/step - loss: 0.3591 - accuracy: 0.9723 - val_loss: 1.4414 - val_accuracy: 0.9299\n",
      "Epoch 6/10\n",
      "139/139 [==============================] - 51s 365ms/step - loss: 0.3556 - accuracy: 0.9728 - val_loss: 1.0986 - val_accuracy: 0.9649\n",
      "Epoch 7/10\n",
      "139/139 [==============================] - 50s 359ms/step - loss: 0.4045 - accuracy: 0.9748 - val_loss: 0.8851 - val_accuracy: 0.9559\n",
      "Epoch 8/10\n",
      "139/139 [==============================] - 50s 359ms/step - loss: 0.2711 - accuracy: 0.9824 - val_loss: 1.2428 - val_accuracy: 0.9460\n",
      "Epoch 9/10\n",
      "139/139 [==============================] - 50s 362ms/step - loss: 0.2258 - accuracy: 0.9827 - val_loss: 1.0327 - val_accuracy: 0.9550\n",
      "Epoch 10/10\n",
      "139/139 [==============================] - 50s 359ms/step - loss: 0.1636 - accuracy: 0.9867 - val_loss: 1.2211 - val_accuracy: 0.9424\n",
      "Model: \"model_3\"\n",
      "_________________________________________________________________\n",
      " Layer (type)                Output Shape              Param #   \n",
      "=================================================================\n",
      " input_8 (InputLayer)        [(None, 224, 224, 3)]     0         \n",
      "                                                                 \n",
      " densenet169 (Functional)    (None, 7, 7, 1664)        12642880  \n",
      "                                                                 \n",
      " flatten_3 (Flatten)         (None, 81536)             0         \n",
      "                                                                 \n",
      " batch_normalization_3 (Batc  (None, 81536)            326144    \n",
      " hNormalization)                                                 \n",
      "                                                                 \n",
      " dense_3 (Dense)             (None, 7)                 570759    \n",
      "                                                                 \n",
      "=================================================================\n",
      "Total params: 13,539,783\n",
      "Trainable params: 6,647,431\n",
      "Non-trainable params: 6,892,352\n",
      "_________________________________________________________________\n",
      "Epoch 1/10\n"
     ]
    },
    {
     "name": "stderr",
     "output_type": "stream",
     "text": [
      "2022-07-01 04:09:16.404967: I tensorflow/core/grappler/optimizers/custom_graph_optimizer_registry.cc:113] Plugin optimizer for device_type GPU is enabled.\n"
     ]
    },
    {
     "name": "stdout",
     "output_type": "stream",
     "text": [
      "139/139 [==============================] - ETA: 0s - loss: 1.2674 - accuracy: 0.8659"
     ]
    },
    {
     "name": "stderr",
     "output_type": "stream",
     "text": [
      "2022-07-01 04:10:10.346598: I tensorflow/core/grappler/optimizers/custom_graph_optimizer_registry.cc:113] Plugin optimizer for device_type GPU is enabled.\n"
     ]
    },
    {
     "name": "stdout",
     "output_type": "stream",
     "text": [
      "139/139 [==============================] - 73s 434ms/step - loss: 1.2674 - accuracy: 0.8659 - val_loss: 2.3290 - val_accuracy: 0.8993\n",
      "Epoch 2/10\n",
      "139/139 [==============================] - 51s 370ms/step - loss: 0.7202 - accuracy: 0.9379 - val_loss: 1.4069 - val_accuracy: 0.9245\n",
      "Epoch 3/10\n",
      "139/139 [==============================] - 51s 365ms/step - loss: 0.5722 - accuracy: 0.9563 - val_loss: 0.9268 - val_accuracy: 0.9532\n",
      "Epoch 4/10\n",
      "139/139 [==============================] - 51s 366ms/step - loss: 0.2878 - accuracy: 0.9737 - val_loss: 0.5908 - val_accuracy: 0.9604\n",
      "Epoch 5/10\n",
      "139/139 [==============================] - 51s 365ms/step - loss: 0.2815 - accuracy: 0.9743 - val_loss: 0.7704 - val_accuracy: 0.9604\n",
      "Epoch 6/10\n",
      "139/139 [==============================] - 50s 360ms/step - loss: 0.3966 - accuracy: 0.9757 - val_loss: 1.1939 - val_accuracy: 0.9505\n",
      "Epoch 7/10\n",
      "139/139 [==============================] - 50s 360ms/step - loss: 0.2735 - accuracy: 0.9797 - val_loss: 1.5676 - val_accuracy: 0.9478\n",
      "Epoch 8/10\n",
      "139/139 [==============================] - 50s 360ms/step - loss: 0.2374 - accuracy: 0.9829 - val_loss: 1.4849 - val_accuracy: 0.9487\n",
      "Epoch 9/10\n",
      "139/139 [==============================] - 51s 363ms/step - loss: 0.2579 - accuracy: 0.9813 - val_loss: 1.3651 - val_accuracy: 0.9577\n",
      "Epoch 10/10\n",
      "139/139 [==============================] - 50s 358ms/step - loss: 0.2356 - accuracy: 0.9836 - val_loss: 1.1514 - val_accuracy: 0.9667\n",
      "Model: \"model_4\"\n",
      "_________________________________________________________________\n",
      " Layer (type)                Output Shape              Param #   \n",
      "=================================================================\n",
      " input_10 (InputLayer)       [(None, 224, 224, 3)]     0         \n",
      "                                                                 \n",
      " densenet169 (Functional)    (None, 7, 7, 1664)        12642880  \n",
      "                                                                 \n",
      " flatten_4 (Flatten)         (None, 81536)             0         \n",
      "                                                                 \n",
      " batch_normalization_4 (Batc  (None, 81536)            326144    \n",
      " hNormalization)                                                 \n",
      "                                                                 \n",
      " dense_4 (Dense)             (None, 128)               10436736  \n",
      "                                                                 \n",
      " dropout (Dropout)           (None, 128)               0         \n",
      "                                                                 \n",
      " batch_normalization_5 (Batc  (None, 128)              512       \n",
      " hNormalization)                                                 \n",
      "                                                                 \n",
      " dense_5 (Dense)             (None, 7)                 903       \n",
      "                                                                 \n",
      "=================================================================\n",
      "Total params: 23,407,175\n",
      "Trainable params: 16,514,567\n",
      "Non-trainable params: 6,892,608\n",
      "_________________________________________________________________\n",
      "Epoch 1/10\n"
     ]
    },
    {
     "name": "stderr",
     "output_type": "stream",
     "text": [
      "2022-07-01 04:18:13.949807: I tensorflow/core/grappler/optimizers/custom_graph_optimizer_registry.cc:113] Plugin optimizer for device_type GPU is enabled.\n"
     ]
    },
    {
     "name": "stdout",
     "output_type": "stream",
     "text": [
      "139/139 [==============================] - ETA: 0s - loss: 0.3593 - accuracy: 0.8882"
     ]
    },
    {
     "name": "stderr",
     "output_type": "stream",
     "text": [
      "2022-07-01 04:19:16.161182: I tensorflow/core/grappler/optimizers/custom_graph_optimizer_registry.cc:113] Plugin optimizer for device_type GPU is enabled.\n"
     ]
    },
    {
     "name": "stdout",
     "output_type": "stream",
     "text": [
      "139/139 [==============================] - 84s 493ms/step - loss: 0.3593 - accuracy: 0.8882 - val_loss: 0.1831 - val_accuracy: 0.9496\n",
      "Epoch 2/10\n",
      "139/139 [==============================] - 58s 415ms/step - loss: 0.1200 - accuracy: 0.9667 - val_loss: 0.1208 - val_accuracy: 0.9658\n",
      "Epoch 3/10\n",
      "139/139 [==============================] - 56s 405ms/step - loss: 0.0680 - accuracy: 0.9800 - val_loss: 0.0885 - val_accuracy: 0.9775\n",
      "Epoch 4/10\n",
      "139/139 [==============================] - 56s 402ms/step - loss: 0.0454 - accuracy: 0.9869 - val_loss: 0.1149 - val_accuracy: 0.9703\n",
      "Epoch 5/10\n",
      "139/139 [==============================] - 56s 403ms/step - loss: 0.0497 - accuracy: 0.9858 - val_loss: 0.1111 - val_accuracy: 0.9703\n",
      "Epoch 6/10\n",
      "139/139 [==============================] - 56s 401ms/step - loss: 0.0267 - accuracy: 0.9937 - val_loss: 0.1031 - val_accuracy: 0.9721\n",
      "Epoch 7/10\n",
      "139/139 [==============================] - 56s 400ms/step - loss: 0.0280 - accuracy: 0.9905 - val_loss: 0.1024 - val_accuracy: 0.9739\n",
      "Epoch 8/10\n",
      "139/139 [==============================] - 56s 400ms/step - loss: 0.0235 - accuracy: 0.9950 - val_loss: 0.1203 - val_accuracy: 0.9631\n",
      "Epoch 9/10\n",
      "139/139 [==============================] - 56s 400ms/step - loss: 0.0240 - accuracy: 0.9930 - val_loss: 0.1632 - val_accuracy: 0.9595\n",
      "Epoch 10/10\n",
      "139/139 [==============================] - 55s 395ms/step - loss: 0.0464 - accuracy: 0.9845 - val_loss: 0.0877 - val_accuracy: 0.9703\n",
      "Model: \"model_5\"\n",
      "_________________________________________________________________\n",
      " Layer (type)                Output Shape              Param #   \n",
      "=================================================================\n",
      " input_12 (InputLayer)       [(None, 224, 224, 3)]     0         \n",
      "                                                                 \n",
      " densenet169 (Functional)    (None, 7, 7, 1664)        12642880  \n",
      "                                                                 \n",
      " flatten_5 (Flatten)         (None, 81536)             0         \n",
      "                                                                 \n",
      " batch_normalization_6 (Batc  (None, 81536)            326144    \n",
      " hNormalization)                                                 \n",
      "                                                                 \n",
      " dense_6 (Dense)             (None, 128)               10436736  \n",
      "                                                                 \n",
      " dropout_1 (Dropout)         (None, 128)               0         \n",
      "                                                                 \n",
      " batch_normalization_7 (Batc  (None, 128)              512       \n",
      " hNormalization)                                                 \n",
      "                                                                 \n",
      " dense_7 (Dense)             (None, 7)                 903       \n",
      "                                                                 \n",
      "=================================================================\n",
      "Total params: 23,407,175\n",
      "Trainable params: 16,514,567\n",
      "Non-trainable params: 6,892,608\n",
      "_________________________________________________________________\n",
      "Epoch 1/10\n"
     ]
    },
    {
     "name": "stderr",
     "output_type": "stream",
     "text": [
      "2022-07-01 04:28:11.063662: I tensorflow/core/grappler/optimizers/custom_graph_optimizer_registry.cc:113] Plugin optimizer for device_type GPU is enabled.\n"
     ]
    },
    {
     "name": "stdout",
     "output_type": "stream",
     "text": [
      "139/139 [==============================] - ETA: 0s - loss: 0.3596 - accuracy: 0.8864"
     ]
    },
    {
     "name": "stderr",
     "output_type": "stream",
     "text": [
      "2022-07-01 04:29:11.732349: I tensorflow/core/grappler/optimizers/custom_graph_optimizer_registry.cc:113] Plugin optimizer for device_type GPU is enabled.\n"
     ]
    },
    {
     "name": "stdout",
     "output_type": "stream",
     "text": [
      "139/139 [==============================] - 84s 505ms/step - loss: 0.3596 - accuracy: 0.8864 - val_loss: 0.2058 - val_accuracy: 0.9371\n",
      "Epoch 2/10\n",
      "139/139 [==============================] - 58s 417ms/step - loss: 0.1105 - accuracy: 0.9665 - val_loss: 0.0894 - val_accuracy: 0.9712\n",
      "Epoch 3/10\n",
      "139/139 [==============================] - 58s 417ms/step - loss: 0.0670 - accuracy: 0.9802 - val_loss: 0.1428 - val_accuracy: 0.9595\n",
      "Epoch 4/10\n",
      "139/139 [==============================] - 58s 414ms/step - loss: 0.0570 - accuracy: 0.9820 - val_loss: 0.0956 - val_accuracy: 0.9712\n",
      "Epoch 5/10\n",
      "139/139 [==============================] - 57s 407ms/step - loss: 0.0417 - accuracy: 0.9878 - val_loss: 0.0797 - val_accuracy: 0.9712\n",
      "Epoch 6/10\n",
      "139/139 [==============================] - 57s 408ms/step - loss: 0.0417 - accuracy: 0.9881 - val_loss: 0.1345 - val_accuracy: 0.9532\n",
      "Epoch 7/10\n",
      "139/139 [==============================] - 56s 406ms/step - loss: 0.0342 - accuracy: 0.9899 - val_loss: 0.0845 - val_accuracy: 0.9694\n",
      "Epoch 8/10\n",
      "139/139 [==============================] - 57s 407ms/step - loss: 0.0331 - accuracy: 0.9894 - val_loss: 0.0837 - val_accuracy: 0.9739\n",
      "Epoch 9/10\n",
      "139/139 [==============================] - 56s 406ms/step - loss: 0.0175 - accuracy: 0.9946 - val_loss: 0.0828 - val_accuracy: 0.9784\n",
      "Epoch 10/10\n",
      "139/139 [==============================] - 57s 409ms/step - loss: 0.0200 - accuracy: 0.9944 - val_loss: 0.1328 - val_accuracy: 0.9604\n",
      "Model: \"model_6\"\n",
      "_________________________________________________________________\n",
      " Layer (type)                Output Shape              Param #   \n",
      "=================================================================\n",
      " input_14 (InputLayer)       [(None, 224, 224, 3)]     0         \n",
      "                                                                 \n",
      " densenet169 (Functional)    (None, 7, 7, 1664)        12642880  \n",
      "                                                                 \n",
      " flatten_6 (Flatten)         (None, 81536)             0         \n",
      "                                                                 \n",
      " batch_normalization_8 (Batc  (None, 81536)            326144    \n",
      " hNormalization)                                                 \n",
      "                                                                 \n",
      " dense_8 (Dense)             (None, 128)               10436736  \n",
      "                                                                 \n",
      " dropout_2 (Dropout)         (None, 128)               0         \n",
      "                                                                 \n",
      " batch_normalization_9 (Batc  (None, 128)              512       \n",
      " hNormalization)                                                 \n",
      "                                                                 \n",
      " dense_9 (Dense)             (None, 7)                 903       \n",
      "                                                                 \n",
      "=================================================================\n",
      "Total params: 23,407,175\n",
      "Trainable params: 16,514,567\n",
      "Non-trainable params: 6,892,608\n",
      "_________________________________________________________________\n",
      "Epoch 1/10\n"
     ]
    },
    {
     "name": "stderr",
     "output_type": "stream",
     "text": [
      "2022-07-01 04:38:15.377928: I tensorflow/core/grappler/optimizers/custom_graph_optimizer_registry.cc:113] Plugin optimizer for device_type GPU is enabled.\n"
     ]
    },
    {
     "name": "stdout",
     "output_type": "stream",
     "text": [
      "139/139 [==============================] - ETA: 0s - loss: 0.3603 - accuracy: 0.8852"
     ]
    },
    {
     "name": "stderr",
     "output_type": "stream",
     "text": [
      "2022-07-01 04:39:27.067416: I tensorflow/core/grappler/optimizers/custom_graph_optimizer_registry.cc:113] Plugin optimizer for device_type GPU is enabled.\n"
     ]
    },
    {
     "name": "stdout",
     "output_type": "stream",
     "text": [
      "139/139 [==============================] - 96s 614ms/step - loss: 0.3603 - accuracy: 0.8852 - val_loss: 0.1326 - val_accuracy: 0.9613\n",
      "Epoch 2/10\n",
      "139/139 [==============================] - 70s 505ms/step - loss: 0.1214 - accuracy: 0.9658 - val_loss: 0.0901 - val_accuracy: 0.9667\n",
      "Epoch 3/10\n",
      "139/139 [==============================] - 71s 514ms/step - loss: 0.0642 - accuracy: 0.9824 - val_loss: 0.0862 - val_accuracy: 0.9757\n",
      "Epoch 4/10\n",
      "139/139 [==============================] - 70s 502ms/step - loss: 0.0641 - accuracy: 0.9797 - val_loss: 0.1108 - val_accuracy: 0.9640\n",
      "Epoch 5/10\n",
      "139/139 [==============================] - 69s 497ms/step - loss: 0.0357 - accuracy: 0.9914 - val_loss: 0.0754 - val_accuracy: 0.9748\n",
      "Epoch 6/10\n",
      "139/139 [==============================] - 69s 494ms/step - loss: 0.0370 - accuracy: 0.9883 - val_loss: 0.0913 - val_accuracy: 0.9703\n",
      "Epoch 7/10\n",
      "139/139 [==============================] - 69s 494ms/step - loss: 0.0264 - accuracy: 0.9941 - val_loss: 0.1003 - val_accuracy: 0.9766\n",
      "Epoch 8/10\n",
      "139/139 [==============================] - 70s 501ms/step - loss: 0.0304 - accuracy: 0.9894 - val_loss: 0.0796 - val_accuracy: 0.9766\n",
      "Epoch 9/10\n",
      "139/139 [==============================] - 68s 492ms/step - loss: 0.0172 - accuracy: 0.9948 - val_loss: 0.0840 - val_accuracy: 0.9748\n",
      "Epoch 10/10\n",
      "139/139 [==============================] - 69s 493ms/step - loss: 0.0203 - accuracy: 0.9941 - val_loss: 0.0814 - val_accuracy: 0.9775\n",
      "Model: \"model_7\"\n",
      "_________________________________________________________________\n",
      " Layer (type)                Output Shape              Param #   \n",
      "=================================================================\n",
      " input_16 (InputLayer)       [(None, 224, 224, 3)]     0         \n",
      "                                                                 \n",
      " densenet169 (Functional)    (None, 7, 7, 1664)        12642880  \n",
      "                                                                 \n",
      " flatten_7 (Flatten)         (None, 81536)             0         \n",
      "                                                                 \n",
      " batch_normalization_10 (Bat  (None, 81536)            326144    \n",
      " chNormalization)                                                \n",
      "                                                                 \n",
      " dense_10 (Dense)            (None, 128)               10436736  \n",
      "                                                                 \n",
      " dropout_3 (Dropout)         (None, 128)               0         \n",
      "                                                                 \n",
      " batch_normalization_11 (Bat  (None, 128)              512       \n",
      " chNormalization)                                                \n",
      "                                                                 \n",
      " dense_11 (Dense)            (None, 7)                 903       \n",
      "                                                                 \n",
      "=================================================================\n",
      "Total params: 23,407,175\n",
      "Trainable params: 16,514,567\n",
      "Non-trainable params: 6,892,608\n",
      "_________________________________________________________________\n",
      "Epoch 1/10\n"
     ]
    },
    {
     "name": "stderr",
     "output_type": "stream",
     "text": [
      "2022-07-01 04:50:27.724299: I tensorflow/core/grappler/optimizers/custom_graph_optimizer_registry.cc:113] Plugin optimizer for device_type GPU is enabled.\n"
     ]
    },
    {
     "name": "stdout",
     "output_type": "stream",
     "text": [
      "139/139 [==============================] - ETA: 0s - loss: 0.3584 - accuracy: 0.8902"
     ]
    },
    {
     "name": "stderr",
     "output_type": "stream",
     "text": [
      "2022-07-01 04:51:36.061411: I tensorflow/core/grappler/optimizers/custom_graph_optimizer_registry.cc:113] Plugin optimizer for device_type GPU is enabled.\n"
     ]
    },
    {
     "name": "stdout",
     "output_type": "stream",
     "text": [
      "139/139 [==============================] - 95s 568ms/step - loss: 0.3584 - accuracy: 0.8902 - val_loss: 0.2180 - val_accuracy: 0.9424\n",
      "Epoch 2/10\n",
      "139/139 [==============================] - 62s 445ms/step - loss: 0.1191 - accuracy: 0.9658 - val_loss: 0.1023 - val_accuracy: 0.9721\n",
      "Epoch 3/10\n",
      "139/139 [==============================] - 61s 439ms/step - loss: 0.0618 - accuracy: 0.9833 - val_loss: 0.0741 - val_accuracy: 0.9757\n",
      "Epoch 4/10\n",
      "139/139 [==============================] - 61s 441ms/step - loss: 0.0368 - accuracy: 0.9890 - val_loss: 0.1304 - val_accuracy: 0.9667\n",
      "Epoch 5/10\n",
      "139/139 [==============================] - 60s 433ms/step - loss: 0.0419 - accuracy: 0.9876 - val_loss: 0.0840 - val_accuracy: 0.9802\n",
      "Epoch 6/10\n",
      "139/139 [==============================] - 60s 431ms/step - loss: 0.0303 - accuracy: 0.9921 - val_loss: 0.0793 - val_accuracy: 0.9793\n",
      "Epoch 7/10\n",
      "139/139 [==============================] - 61s 438ms/step - loss: 0.0304 - accuracy: 0.9917 - val_loss: 0.1023 - val_accuracy: 0.9739\n",
      "Epoch 8/10\n",
      "139/139 [==============================] - 61s 435ms/step - loss: 0.0299 - accuracy: 0.9914 - val_loss: 0.0738 - val_accuracy: 0.9766\n",
      "Epoch 9/10\n",
      "139/139 [==============================] - 60s 431ms/step - loss: 0.0203 - accuracy: 0.9930 - val_loss: 0.0934 - val_accuracy: 0.9757\n",
      "Epoch 10/10\n",
      "139/139 [==============================] - 60s 430ms/step - loss: 0.0198 - accuracy: 0.9939 - val_loss: 0.0836 - val_accuracy: 0.9730\n",
      "Model: \"model_8\"\n",
      "_________________________________________________________________\n",
      " Layer (type)                Output Shape              Param #   \n",
      "=================================================================\n",
      " input_18 (InputLayer)       [(None, 224, 224, 3)]     0         \n",
      "                                                                 \n",
      " densenet169 (Functional)    (None, 7, 7, 1664)        12642880  \n",
      "                                                                 \n",
      " flatten_8 (Flatten)         (None, 81536)             0         \n",
      "                                                                 \n",
      " batch_normalization_12 (Bat  (None, 81536)            326144    \n",
      " chNormalization)                                                \n",
      "                                                                 \n",
      " dense_12 (Dense)            (None, 128)               10436736  \n",
      "                                                                 \n",
      " dropout_4 (Dropout)         (None, 128)               0         \n",
      "                                                                 \n",
      " batch_normalization_13 (Bat  (None, 128)              512       \n",
      " chNormalization)                                                \n",
      "                                                                 \n",
      " dense_13 (Dense)            (None, 64)                8256      \n",
      "                                                                 \n",
      " dropout_5 (Dropout)         (None, 64)                0         \n",
      "                                                                 \n",
      " batch_normalization_14 (Bat  (None, 64)               256       \n",
      " chNormalization)                                                \n",
      "                                                                 \n",
      " dense_14 (Dense)            (None, 7)                 455       \n",
      "                                                                 \n",
      "=================================================================\n",
      "Total params: 23,415,239\n",
      "Trainable params: 16,522,503\n",
      "Non-trainable params: 6,892,736\n",
      "_________________________________________________________________\n",
      "Epoch 1/10\n"
     ]
    },
    {
     "name": "stderr",
     "output_type": "stream",
     "text": [
      "2022-07-01 05:01:13.954006: I tensorflow/core/grappler/optimizers/custom_graph_optimizer_registry.cc:113] Plugin optimizer for device_type GPU is enabled.\n"
     ]
    },
    {
     "name": "stdout",
     "output_type": "stream",
     "text": [
      "139/139 [==============================] - ETA: 0s - loss: 0.6989 - accuracy: 0.7786"
     ]
    },
    {
     "name": "stderr",
     "output_type": "stream",
     "text": [
      "2022-07-01 05:02:31.733121: I tensorflow/core/grappler/optimizers/custom_graph_optimizer_registry.cc:113] Plugin optimizer for device_type GPU is enabled.\n"
     ]
    },
    {
     "name": "stdout",
     "output_type": "stream",
     "text": [
      "139/139 [==============================] - 103s 642ms/step - loss: 0.6989 - accuracy: 0.7786 - val_loss: 0.3481 - val_accuracy: 0.9020\n",
      "Epoch 2/10\n",
      "139/139 [==============================] - 72s 520ms/step - loss: 0.2672 - accuracy: 0.9363 - val_loss: 0.1521 - val_accuracy: 0.9604\n",
      "Epoch 3/10\n",
      "139/139 [==============================] - 71s 504ms/step - loss: 0.1657 - accuracy: 0.9572 - val_loss: 0.1694 - val_accuracy: 0.9487\n",
      "Epoch 4/10\n",
      "139/139 [==============================] - 71s 509ms/step - loss: 0.1147 - accuracy: 0.9696 - val_loss: 0.1594 - val_accuracy: 0.9586\n",
      "Epoch 5/10\n",
      "139/139 [==============================] - 70s 502ms/step - loss: 0.0981 - accuracy: 0.9768 - val_loss: 0.0981 - val_accuracy: 0.9730\n",
      "Epoch 6/10\n",
      "139/139 [==============================] - 70s 500ms/step - loss: 0.0611 - accuracy: 0.9854 - val_loss: 0.1129 - val_accuracy: 0.9721\n",
      "Epoch 7/10\n",
      "139/139 [==============================] - 69s 499ms/step - loss: 0.0560 - accuracy: 0.9863 - val_loss: 0.1493 - val_accuracy: 0.9550\n",
      "Epoch 8/10\n",
      "139/139 [==============================] - 70s 501ms/step - loss: 0.0511 - accuracy: 0.9865 - val_loss: 0.0839 - val_accuracy: 0.9766\n",
      "Epoch 9/10\n",
      "139/139 [==============================] - 69s 494ms/step - loss: 0.0422 - accuracy: 0.9894 - val_loss: 0.0934 - val_accuracy: 0.9748\n",
      "Epoch 10/10\n",
      "139/139 [==============================] - 71s 507ms/step - loss: 0.0596 - accuracy: 0.9829 - val_loss: 0.1192 - val_accuracy: 0.9676\n",
      "Model: \"model_9\"\n",
      "_________________________________________________________________\n",
      " Layer (type)                Output Shape              Param #   \n",
      "=================================================================\n",
      " input_20 (InputLayer)       [(None, 224, 224, 3)]     0         \n",
      "                                                                 \n",
      " densenet169 (Functional)    (None, 7, 7, 1664)        12642880  \n",
      "                                                                 \n",
      " flatten_9 (Flatten)         (None, 81536)             0         \n",
      "                                                                 \n",
      " batch_normalization_15 (Bat  (None, 81536)            326144    \n",
      " chNormalization)                                                \n",
      "                                                                 \n",
      " dense_15 (Dense)            (None, 128)               10436736  \n",
      "                                                                 \n",
      " dropout_6 (Dropout)         (None, 128)               0         \n",
      "                                                                 \n",
      " batch_normalization_16 (Bat  (None, 128)              512       \n",
      " chNormalization)                                                \n",
      "                                                                 \n",
      " dense_16 (Dense)            (None, 64)                8256      \n",
      "                                                                 \n",
      " dropout_7 (Dropout)         (None, 64)                0         \n",
      "                                                                 \n",
      " batch_normalization_17 (Bat  (None, 64)               256       \n",
      " chNormalization)                                                \n",
      "                                                                 \n",
      " dense_17 (Dense)            (None, 7)                 455       \n",
      "                                                                 \n",
      "=================================================================\n",
      "Total params: 23,415,239\n",
      "Trainable params: 16,522,503\n",
      "Non-trainable params: 6,892,736\n",
      "_________________________________________________________________\n",
      "Epoch 1/10\n"
     ]
    },
    {
     "name": "stderr",
     "output_type": "stream",
     "text": [
      "2022-07-01 05:13:42.408734: I tensorflow/core/grappler/optimizers/custom_graph_optimizer_registry.cc:113] Plugin optimizer for device_type GPU is enabled.\n"
     ]
    },
    {
     "name": "stdout",
     "output_type": "stream",
     "text": [
      "139/139 [==============================] - ETA: 0s - loss: 0.7373 - accuracy: 0.7754"
     ]
    },
    {
     "name": "stderr",
     "output_type": "stream",
     "text": [
      "2022-07-01 05:15:01.541707: I tensorflow/core/grappler/optimizers/custom_graph_optimizer_registry.cc:113] Plugin optimizer for device_type GPU is enabled.\n"
     ]
    },
    {
     "name": "stdout",
     "output_type": "stream",
     "text": [
      "139/139 [==============================] - 113s 659ms/step - loss: 0.7373 - accuracy: 0.7754 - val_loss: 0.1644 - val_accuracy: 0.9514\n",
      "Epoch 2/10\n",
      "139/139 [==============================] - 64s 461ms/step - loss: 0.2794 - accuracy: 0.9284 - val_loss: 0.1047 - val_accuracy: 0.9712\n",
      "Epoch 3/10\n",
      "139/139 [==============================] - 62s 446ms/step - loss: 0.1682 - accuracy: 0.9606 - val_loss: 0.1328 - val_accuracy: 0.9604\n",
      "Epoch 4/10\n",
      "139/139 [==============================] - 63s 452ms/step - loss: 0.1308 - accuracy: 0.9658 - val_loss: 0.0774 - val_accuracy: 0.9784\n",
      "Epoch 5/10\n",
      "139/139 [==============================] - 62s 446ms/step - loss: 0.1024 - accuracy: 0.9728 - val_loss: 0.0830 - val_accuracy: 0.9721\n",
      "Epoch 6/10\n",
      "139/139 [==============================] - 64s 463ms/step - loss: 0.0832 - accuracy: 0.9779 - val_loss: 0.0766 - val_accuracy: 0.9757\n",
      "Epoch 7/10\n",
      "139/139 [==============================] - 62s 443ms/step - loss: 0.0730 - accuracy: 0.9802 - val_loss: 0.0824 - val_accuracy: 0.9757\n",
      "Epoch 8/10\n",
      "139/139 [==============================] - 62s 448ms/step - loss: 0.0496 - accuracy: 0.9878 - val_loss: 0.1047 - val_accuracy: 0.9766\n",
      "Epoch 9/10\n",
      "139/139 [==============================] - 61s 439ms/step - loss: 0.0510 - accuracy: 0.9876 - val_loss: 0.0974 - val_accuracy: 0.9721\n",
      "Epoch 10/10\n",
      "139/139 [==============================] - 62s 443ms/step - loss: 0.0388 - accuracy: 0.9892 - val_loss: 0.0854 - val_accuracy: 0.9784\n",
      "Model: \"model_10\"\n",
      "_________________________________________________________________\n",
      " Layer (type)                Output Shape              Param #   \n",
      "=================================================================\n",
      " input_22 (InputLayer)       [(None, 224, 224, 3)]     0         \n",
      "                                                                 \n",
      " densenet169 (Functional)    (None, 7, 7, 1664)        12642880  \n",
      "                                                                 \n",
      " flatten_10 (Flatten)        (None, 81536)             0         \n",
      "                                                                 \n",
      " batch_normalization_18 (Bat  (None, 81536)            326144    \n",
      " chNormalization)                                                \n",
      "                                                                 \n",
      " dense_18 (Dense)            (None, 128)               10436736  \n",
      "                                                                 \n",
      " dropout_8 (Dropout)         (None, 128)               0         \n",
      "                                                                 \n",
      " batch_normalization_19 (Bat  (None, 128)              512       \n",
      " chNormalization)                                                \n",
      "                                                                 \n",
      " dense_19 (Dense)            (None, 64)                8256      \n",
      "                                                                 \n",
      " dropout_9 (Dropout)         (None, 64)                0         \n",
      "                                                                 \n",
      " batch_normalization_20 (Bat  (None, 64)               256       \n",
      " chNormalization)                                                \n",
      "                                                                 \n",
      " dense_20 (Dense)            (None, 7)                 455       \n",
      "                                                                 \n",
      "=================================================================\n",
      "Total params: 23,415,239\n",
      "Trainable params: 16,522,503\n",
      "Non-trainable params: 6,892,736\n",
      "_________________________________________________________________\n",
      "Epoch 1/10\n"
     ]
    },
    {
     "name": "stderr",
     "output_type": "stream",
     "text": [
      "2022-07-01 05:25:03.865030: I tensorflow/core/grappler/optimizers/custom_graph_optimizer_registry.cc:113] Plugin optimizer for device_type GPU is enabled.\n"
     ]
    },
    {
     "name": "stdout",
     "output_type": "stream",
     "text": [
      "139/139 [==============================] - ETA: 0s - loss: 0.7251 - accuracy: 0.7743"
     ]
    },
    {
     "name": "stderr",
     "output_type": "stream",
     "text": [
      "2022-07-01 05:26:35.842581: I tensorflow/core/grappler/optimizers/custom_graph_optimizer_registry.cc:113] Plugin optimizer for device_type GPU is enabled.\n"
     ]
    },
    {
     "name": "stdout",
     "output_type": "stream",
     "text": [
      "139/139 [==============================] - 122s 750ms/step - loss: 0.7251 - accuracy: 0.7743 - val_loss: 0.1745 - val_accuracy: 0.9487\n",
      "Epoch 2/10\n",
      "139/139 [==============================] - 71s 514ms/step - loss: 0.2792 - accuracy: 0.9318 - val_loss: 0.2049 - val_accuracy: 0.9308\n",
      "Epoch 3/10\n",
      "139/139 [==============================] - 71s 509ms/step - loss: 0.1705 - accuracy: 0.9557 - val_loss: 0.1239 - val_accuracy: 0.9676\n",
      "Epoch 4/10\n",
      "139/139 [==============================] - 70s 506ms/step - loss: 0.1085 - accuracy: 0.9732 - val_loss: 0.1100 - val_accuracy: 0.9685\n",
      "Epoch 5/10\n",
      "139/139 [==============================] - 70s 507ms/step - loss: 0.0755 - accuracy: 0.9822 - val_loss: 0.0795 - val_accuracy: 0.9784\n",
      "Epoch 6/10\n",
      "139/139 [==============================] - 71s 508ms/step - loss: 0.0508 - accuracy: 0.9896 - val_loss: 0.1093 - val_accuracy: 0.9649\n",
      "Epoch 7/10\n",
      "139/139 [==============================] - 69s 499ms/step - loss: 0.0655 - accuracy: 0.9827 - val_loss: 0.1146 - val_accuracy: 0.9631\n",
      "Epoch 8/10\n",
      "139/139 [==============================] - 70s 503ms/step - loss: 0.0701 - accuracy: 0.9800 - val_loss: 0.0896 - val_accuracy: 0.9712\n",
      "Epoch 9/10\n",
      "139/139 [==============================] - 70s 506ms/step - loss: 0.0684 - accuracy: 0.9795 - val_loss: 0.0800 - val_accuracy: 0.9712\n",
      "Epoch 10/10\n",
      "139/139 [==============================] - 69s 499ms/step - loss: 0.0452 - accuracy: 0.9858 - val_loss: 0.0838 - val_accuracy: 0.9757\n",
      "Model: \"model_11\"\n",
      "_________________________________________________________________\n",
      " Layer (type)                Output Shape              Param #   \n",
      "=================================================================\n",
      " input_24 (InputLayer)       [(None, 224, 224, 3)]     0         \n",
      "                                                                 \n",
      " densenet169 (Functional)    (None, 7, 7, 1664)        12642880  \n",
      "                                                                 \n",
      " flatten_11 (Flatten)        (None, 81536)             0         \n",
      "                                                                 \n",
      " batch_normalization_21 (Bat  (None, 81536)            326144    \n",
      " chNormalization)                                                \n",
      "                                                                 \n",
      " dense_21 (Dense)            (None, 128)               10436736  \n",
      "                                                                 \n",
      " dropout_10 (Dropout)        (None, 128)               0         \n",
      "                                                                 \n",
      " batch_normalization_22 (Bat  (None, 128)              512       \n",
      " chNormalization)                                                \n",
      "                                                                 \n",
      " dense_22 (Dense)            (None, 64)                8256      \n",
      "                                                                 \n",
      " dropout_11 (Dropout)        (None, 64)                0         \n",
      "                                                                 \n",
      " batch_normalization_23 (Bat  (None, 64)               256       \n",
      " chNormalization)                                                \n",
      "                                                                 \n",
      " dense_23 (Dense)            (None, 7)                 455       \n",
      "                                                                 \n",
      "=================================================================\n",
      "Total params: 23,415,239\n",
      "Trainable params: 16,522,503\n",
      "Non-trainable params: 6,892,736\n",
      "_________________________________________________________________\n",
      "Epoch 1/10\n"
     ]
    },
    {
     "name": "stderr",
     "output_type": "stream",
     "text": [
      "2022-07-01 05:37:56.096922: I tensorflow/core/grappler/optimizers/custom_graph_optimizer_registry.cc:113] Plugin optimizer for device_type GPU is enabled.\n"
     ]
    },
    {
     "name": "stdout",
     "output_type": "stream",
     "text": [
      "139/139 [==============================] - ETA: 0s - loss: 0.6957 - accuracy: 0.7851"
     ]
    },
    {
     "name": "stderr",
     "output_type": "stream",
     "text": [
      "2022-07-01 05:39:24.198399: I tensorflow/core/grappler/optimizers/custom_graph_optimizer_registry.cc:113] Plugin optimizer for device_type GPU is enabled.\n"
     ]
    },
    {
     "name": "stdout",
     "output_type": "stream",
     "text": [
      "139/139 [==============================] - 127s 737ms/step - loss: 0.6957 - accuracy: 0.7851 - val_loss: 0.2263 - val_accuracy: 0.9379\n",
      "Epoch 2/10\n",
      "139/139 [==============================] - 71s 507ms/step - loss: 0.2686 - accuracy: 0.9343 - val_loss: 0.1399 - val_accuracy: 0.9586\n",
      "Epoch 3/10\n",
      "139/139 [==============================] - 68s 490ms/step - loss: 0.1622 - accuracy: 0.9584 - val_loss: 0.1116 - val_accuracy: 0.9739\n",
      "Epoch 4/10\n",
      "139/139 [==============================] - 68s 489ms/step - loss: 0.1143 - accuracy: 0.9734 - val_loss: 0.1672 - val_accuracy: 0.9487\n",
      "Epoch 5/10\n",
      "139/139 [==============================] - 68s 491ms/step - loss: 0.0974 - accuracy: 0.9741 - val_loss: 0.0974 - val_accuracy: 0.9694\n",
      "Epoch 6/10\n",
      "139/139 [==============================] - 68s 490ms/step - loss: 0.0865 - accuracy: 0.9773 - val_loss: 0.1089 - val_accuracy: 0.9676\n",
      "Epoch 7/10\n",
      "139/139 [==============================] - 67s 484ms/step - loss: 0.0689 - accuracy: 0.9809 - val_loss: 0.1109 - val_accuracy: 0.9595\n",
      "Epoch 8/10\n",
      "139/139 [==============================] - 68s 489ms/step - loss: 0.0601 - accuracy: 0.9845 - val_loss: 0.0801 - val_accuracy: 0.9739\n",
      "Epoch 9/10\n",
      "139/139 [==============================] - 67s 480ms/step - loss: 0.0503 - accuracy: 0.9856 - val_loss: 0.0731 - val_accuracy: 0.9784\n",
      "Epoch 10/10\n",
      "139/139 [==============================] - 68s 490ms/step - loss: 0.0547 - accuracy: 0.9863 - val_loss: 0.0903 - val_accuracy: 0.9748\n"
     ]
    }
   ],
   "source": [
    "history_ini = []\n",
    "folds = 4\n",
    "max_layers = 3\n",
    "layers = [512, 256, 128, 64]\n",
    "for l in range(max_layers):\n",
    "    h = np.array(train_with_k_fold_cross_validation(folds, 128, True, True, l))\n",
    "    history_ini.append(h)"
   ],
   "metadata": {
    "collapsed": false,
    "pycharm": {
     "name": "#%%\n"
    }
   }
  },
  {
   "cell_type": "markdown",
   "source": [
    "### Showing the results"
   ],
   "metadata": {
    "collapsed": false,
    "pycharm": {
     "name": "#%% md\n"
    }
   }
  },
  {
   "cell_type": "code",
   "execution_count": 12,
   "outputs": [],
   "source": [
    "def show_and_predict_img(name: str, model):\n",
    "    img = cv2.imread('test/' + name, cv2.IMREAD_ANYCOLOR)\n",
    "    im = np.array([img])\n",
    "    im = keras.applications.densenet.preprocess_input(im)\n",
    "\n",
    "    cv2.imshow('img', img)\n",
    "    cv2.waitKey(0)\n",
    "    return model.predict(im)"
   ],
   "metadata": {
    "collapsed": false,
    "pycharm": {
     "name": "#%%\n"
    }
   }
  },
  {
   "cell_type": "code",
   "execution_count": 13,
   "outputs": [],
   "source": [
    "def get_history_mean(k_history, prop: str):\n",
    "    val_acc = [h.history[prop] for h in k_history]\n",
    "    mean = np.mean(val_acc, axis=0)\n",
    "    return mean"
   ],
   "metadata": {
    "collapsed": false,
    "pycharm": {
     "name": "#%%\n"
    }
   }
  },
  {
   "cell_type": "code",
   "execution_count": 19,
   "outputs": [
    {
     "data": {
      "text/plain": "<Figure size 432x288 with 1 Axes>",
      "image/png": "[encoded data removed]"
     },
     "metadata": {
      "needs_background": "light"
     },
     "output_type": "display_data"
    }
   ],
   "source": [
    "means = map(get_history_mean, history, ['val_accuracy'] * len(history))\n",
    "\n",
    "plot_model_accuracy(means, ['0', '1', '2', '3'])"
   ],
   "metadata": {
    "collapsed": false,
    "pycharm": {
     "name": "#%%\n"
    }
   }
  },
  {
   "cell_type": "code",
   "execution_count": 14,
   "outputs": [],
   "source": [
    "def plot_model_accuracy(accs, losses, legends):\n",
    "    plt.figure(figsize=(12,4))\n",
    "    plt.subplot(1,2,1)\n",
    "    for acc in accs:\n",
    "        plt.plot(acc)\n",
    "        l = len(acc) - 1\n",
    "        plt.text(l, acc[l], \"{:.1f}%\".format(acc[l] * 100))\n",
    "    plt.legend(legends, loc='lower right')\n",
    "    plt.title('model accuracy')\n",
    "    plt.ylabel('accuracy')\n",
    "    plt.xlabel('epoch')\n",
    "\n",
    "    plt.subplot(1,2,2)\n",
    "    for loss in losses:\n",
    "        plt.plot(loss)\n",
    "        l = len(loss) - 1\n",
    "        plt.text(l, loss[l], \"{:.1f}%\".format(loss[l] * 100))\n",
    "    plt.legend(legends, loc='upper right')\n",
    "    plt.title('model loss')\n",
    "    plt.ylabel('loss')\n",
    "    plt.xlabel('epoch')\n",
    "    plt.savefig('number_of_layers.png')\n",
    "    plt.show()"
   ],
   "metadata": {
    "collapsed": false,
    "pycharm": {
     "name": "#%%\n"
    }
   }
  },
  {
   "cell_type": "code",
   "execution_count": 15,
   "outputs": [
    {
     "data": {
      "text/plain": "<Figure size 864x288 with 2 Axes>",
      "image/png": "[encoded data removed]"
     },
     "metadata": {
      "needs_background": "light"
     },
     "output_type": "display_data"
    }
   ],
   "source": [
    "acc = map(get_history_mean, history_ini, ['val_accuracy'] * len(history_ini))\n",
    "loss = map(get_history_mean, history_ini, ['val_loss'] * len(history_ini))\n",
    "\n",
    "plot_model_accuracy(acc, loss, [0, 1, 2, 3])"
   ],
   "metadata": {
    "collapsed": false,
    "pycharm": {
     "name": "#%%\n"
    }
   }
  },
  {
   "cell_type": "markdown",
   "source": [
    "### Validating the failed cases"
   ],
   "metadata": {
    "collapsed": false,
    "pycharm": {
     "name": "#%% md\n"
    }
   }
  },
  {
   "cell_type": "code",
   "execution_count": 14,
   "outputs": [],
   "source": [
    "def validate_failed(model, X, y, X_original, show_image: bool):\n",
    "    prob = model.predict(X)\n",
    "    predictions = prob.argmax(axis=-1)\n",
    "    expected_y = y.argmax(axis=-1)\n",
    "    failed = []\n",
    "    for i in range(len(predictions)):\n",
    "        if predictions[i] != expected_y[i]:\n",
    "            failed.append(i)\n",
    "            if show_image:\n",
    "                hash = hashlib.sha1(X_original[i]).hexdigest()[:15]\n",
    "                name = map_to_name[hash]\n",
    "                print(\n",
    "                    f'\\r{name} Expected {expected_y[i]} ({prob[i][expected_y[i]]}) but got {predictions[i]} ({prob[i][predictions[i]]})',\n",
    "                    flush=True, end=' ' * 50)\n",
    "                cv2.imshow('Failed', X_val[i])\n",
    "                cv2.imshow('Original', X_original[i])\n",
    "                cv2.waitKey(0)\n",
    "    len(failed)\n",
    "\n",
    "    return failed"
   ],
   "metadata": {
    "collapsed": false,
    "pycharm": {
     "name": "#%%\n"
    }
   }
  },
  {
   "cell_type": "code",
   "execution_count": 12,
   "outputs": [
    {
     "name": "stdout",
     "output_type": "stream",
     "text": [
      "Model: \"model_1\"\n",
      "_________________________________________________________________\n",
      " Layer (type)                Output Shape              Param #   \n",
      "=================================================================\n",
      " input_4 (InputLayer)        [(None, 224, 224, 3)]     0         \n",
      "                                                                 \n",
      " densenet169 (Functional)    (None, 7, 7, 1664)        12642880  \n",
      "                                                                 \n",
      " flatten_1 (Flatten)         (None, 81536)             0         \n",
      "                                                                 \n",
      " batch_normalization_2 (Batc  (None, 81536)            326144    \n",
      " hNormalization)                                                 \n",
      "                                                                 \n",
      " dense_2 (Dense)             (None, 128)               10436736  \n",
      "                                                                 \n",
      " dropout_1 (Dropout)         (None, 128)               0         \n",
      "                                                                 \n",
      " batch_normalization_3 (Batc  (None, 128)              512       \n",
      " hNormalization)                                                 \n",
      "                                                                 \n",
      " dense_3 (Dense)             (None, 7)                 903       \n",
      "                                                                 \n",
      "=================================================================\n",
      "Total params: 23,407,175\n",
      "Trainable params: 16,514,567\n",
      "Non-trainable params: 6,892,608\n",
      "_________________________________________________________________\n",
      "Epoch 1/10\n"
     ]
    },
    {
     "name": "stderr",
     "output_type": "stream",
     "text": [
      "2022-07-15 03:44:03.702553: I tensorflow/core/grappler/optimizers/custom_graph_optimizer_registry.cc:113] Plugin optimizer for device_type GPU is enabled.\n"
     ]
    },
    {
     "name": "stdout",
     "output_type": "stream",
     "text": [
      "139/139 [==============================] - ETA: 0s - loss: 0.3539 - accuracy: 0.8891"
     ]
    },
    {
     "name": "stderr",
     "output_type": "stream",
     "text": [
      "2022-07-15 03:44:58.073982: I tensorflow/core/grappler/optimizers/custom_graph_optimizer_registry.cc:113] Plugin optimizer for device_type GPU is enabled.\n"
     ]
    },
    {
     "name": "stdout",
     "output_type": "stream",
     "text": [
      "139/139 [==============================] - 71s 453ms/step - loss: 0.3539 - accuracy: 0.8891 - val_loss: 0.1651 - val_accuracy: 0.9442\n",
      "Epoch 2/10\n",
      "139/139 [==============================] - 57s 410ms/step - loss: 0.1256 - accuracy: 0.9620 - val_loss: 0.1471 - val_accuracy: 0.9550\n",
      "Epoch 3/10\n",
      "139/139 [==============================] - 56s 404ms/step - loss: 0.0688 - accuracy: 0.9811 - val_loss: 0.1170 - val_accuracy: 0.9658\n",
      "Epoch 4/10\n",
      "139/139 [==============================] - 56s 405ms/step - loss: 0.0487 - accuracy: 0.9858 - val_loss: 0.1223 - val_accuracy: 0.9685\n",
      "Epoch 5/10\n",
      "139/139 [==============================] - 62s 448ms/step - loss: 0.0419 - accuracy: 0.9883 - val_loss: 0.1018 - val_accuracy: 0.9739\n",
      "Epoch 6/10\n",
      "139/139 [==============================] - 58s 416ms/step - loss: 0.0272 - accuracy: 0.9935 - val_loss: 0.0694 - val_accuracy: 0.9829\n",
      "Epoch 7/10\n",
      "139/139 [==============================] - 62s 443ms/step - loss: 0.0308 - accuracy: 0.9910 - val_loss: 0.1066 - val_accuracy: 0.9667\n",
      "Epoch 8/10\n",
      "139/139 [==============================] - 57s 410ms/step - loss: 0.0267 - accuracy: 0.9908 - val_loss: 0.1434 - val_accuracy: 0.9604\n",
      "Epoch 9/10\n",
      "139/139 [==============================] - 55s 398ms/step - loss: 0.0240 - accuracy: 0.9928 - val_loss: 0.0757 - val_accuracy: 0.9775\n",
      "Epoch 10/10\n",
      "139/139 [==============================] - 56s 401ms/step - loss: 0.0249 - accuracy: 0.9930 - val_loss: 0.0822 - val_accuracy: 0.9775\n"
     ]
    }
   ],
   "source": [
    "seed = 25\n",
    "\n",
    "X_train, X_val, y_train, y_val = train_test_split(X_full_p, y_full_p, test_size=0.2, random_state=seed)\n",
    "_, X_original, _, _ = train_test_split(X_full, y_full, test_size=0.2, random_state=seed)\n",
    "\n",
    "model = train_with_simple_holdout_validation(X_train, X_val, y_train, y_val)"
   ],
   "metadata": {
    "collapsed": false,
    "pycharm": {
     "name": "#%%\n"
    }
   }
  },
  {
   "cell_type": "code",
   "execution_count": 25,
   "outputs": [
    {
     "name": "stderr",
     "output_type": "stream",
     "text": [
      "2022-07-01 03:20:03.156236: I tensorflow/core/grappler/optimizers/custom_graph_optimizer_registry.cc:113] Plugin optimizer for device_type GPU is enabled.\n"
     ]
    },
    {
     "name": "stdout",
     "output_type": "stream",
     "text": [
      "a5aa86af1cf8544.jpg Expected 0 (0.0010093660093843937) but got 6 (0.6144306063652039)                                                   "
     ]
    },
    {
     "data": {
      "text/plain": "80"
     },
     "execution_count": 25,
     "metadata": {},
     "output_type": "execute_result"
    }
   ],
   "source": [
    "failed = validate_failed(model, X_val, y_val, X_original, True)\n",
    "len(failed)"
   ],
   "metadata": {
    "collapsed": false,
    "pycharm": {
     "name": "#%%\n"
    }
   }
  },
  {
   "cell_type": "markdown",
   "source": [
    "### Testing new cases"
   ],
   "metadata": {
    "collapsed": false,
    "pycharm": {
     "name": "#%% md\n"
    }
   }
  },
  {
   "cell_type": "code",
   "execution_count": null,
   "outputs": [],
   "source": [
    "loaded_model = keras.models.load_model('diagrams_v9.h5')"
   ],
   "metadata": {
    "collapsed": false,
    "pycharm": {
     "name": "#%%\n"
    }
   }
  },
  {
   "cell_type": "code",
   "execution_count": 14,
   "outputs": [
    {
     "data": {
      "text/plain": "array([[0.00571571, 0.16076495, 0.03779309, 0.16143267, 0.58737206,\n        0.01790639, 0.01244646, 0.01656868]], dtype=float32)"
     },
     "execution_count": 14,
     "metadata": {},
     "output_type": "execute_result"
    }
   ],
   "source": [
    "show_and_predict_img('conceptual.jpg', loaded_model)"
   ],
   "metadata": {
    "collapsed": false,
    "pycharm": {
     "name": "#%%\n"
    }
   }
  }
 ]
}