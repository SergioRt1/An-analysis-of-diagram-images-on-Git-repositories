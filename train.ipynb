{
 "nbformat": 4,
 "nbformat_minor": 0,
 "metadata": {
  "colab": {
   "name": "Untitled0.ipynb",
   "provenance": [],
   "collapsed_sections": []
  },
  "kernelspec": {
   "name": "python3",
   "display_name": "Python 3"
  },
  "language_info": {
   "name": "python"
  }
 },
 "cells": [
  {
   "cell_type": "markdown",
   "source": [
    "# Building and running"
   ],
   "metadata": {
    "collapsed": false,
    "pycharm": {
     "name": "#%% md\n"
    }
   }
  },
  {
   "cell_type": "code",
   "execution_count": 1,
   "outputs": [],
   "source": [
    "import pandas as pd\n",
    "import numpy as np\n",
    "import cv2\n",
    "import hashlib\n",
    "\n",
    "from tensorflow import keras\n",
    "\n",
    "from sklearn.metrics import classification_report\n",
    "from sklearn.model_selection import train_test_split\n",
    "from matplotlib import pyplot as plt"
   ],
   "metadata": {
    "collapsed": false,
    "pycharm": {
     "name": "#%%\n"
    }
   }
  },
  {
   "cell_type": "markdown",
   "source": [
    "## Load and prepare dataset\n",
    "The dataset is composed by:\n",
    " * CSV with the labeling\n",
    " * Image folder with all the images normalized"
   ],
   "metadata": {
    "collapsed": false,
    "pycharm": {
     "name": "#%% md\n"
    }
   }
  },
  {
   "cell_type": "code",
   "execution_count": 2,
   "outputs": [],
   "source": [
    "dataset_folder = 'normalized_data_set_diagrams/'\n",
    "labeled_csv = 'csv/diagram_images_dataset.csv'"
   ],
   "metadata": {
    "collapsed": false,
    "pycharm": {
     "name": "#%%\n"
    }
   }
  },
  {
   "cell_type": "code",
   "execution_count": 3,
   "outputs": [],
   "source": [
    "map_to_name = {}\n",
    "\n",
    "\n",
    "def load_dataset(dataset_folder_path, csv_path):\n",
    "    \"\"\"Loads a dataset of images\n",
    "        - dataset_folder_path is the path of the folder that contains the images\n",
    "        - csv_path is the path of the CSV file that contains the labels of the images\n",
    "        Returns: X_data, y_labeled\n",
    "        - X_data is a numpy.ndarray containing the pixel data of an image X\n",
    "        - y_labeled is a numpy.ndarray containing an int, the label Y for the image X in that index\n",
    "    \"\"\"\n",
    "    X_data = []\n",
    "\n",
    "    data = pd.read_csv(csv_path, dtype={\"Name\": str, \"Category\": np.uint8})\n",
    "\n",
    "    for image_name in data.Name:\n",
    "        img = cv2.imread(dataset_folder_path + image_name, cv2.IMREAD_COLOR)\n",
    "        hash = hashlib.sha1(img).hexdigest()[:15]\n",
    "        img = cv2.cvtColor(img, cv2.COLOR_RGB2BGR)\n",
    "        map_to_name[hash] = image_name\n",
    "        X_data.append(img)\n",
    "\n",
    "    X_data = np.array(X_data)\n",
    "    y_labeled = np.array(data.Category)\n",
    "\n",
    "    print(\"Data loaded\\n\", data)\n",
    "    return X_data, y_labeled"
   ],
   "metadata": {
    "collapsed": false,
    "pycharm": {
     "name": "#%%\n"
    }
   }
  },
  {
   "cell_type": "code",
   "source": [
    "def preprocess_data(x, y, m):\n",
    "    \"\"\"Pre-processes the data for the model\n",
    "        - x is a numpy.ndarray of shape (m, 224, 224, 3) containing\n",
    "         a list of image pixels, where m is the number of images\n",
    "        - y is a numpy.ndarray of shape (m,) containing\n",
    "         the labels for x\n",
    "        - m is the number of categories in the classifier\n",
    "        Returns: X_p, Y_p\n",
    "        - X_p is a numpy.ndarray containing the preprocessed X\n",
    "        - Y_p is a numpy.ndarray containing the preprocessed Y\n",
    "    \"\"\"\n",
    "    X_p = keras.applications.densenet.preprocess_input(x)\n",
    "\n",
    "    y_p = keras.utils.to_categorical(y, m)\n",
    "\n",
    "    return X_p, y_p"
   ],
   "metadata": {
    "id": "w3K893oYu-Yo",
    "pycharm": {
     "name": "#%%\n"
    }
   },
   "execution_count": 4,
   "outputs": []
  },
  {
   "cell_type": "code",
   "source": [
    "X_full, y_full = load_dataset(dataset_folder, labeled_csv)\n",
    "X_full_p, y_full_p = preprocess_data(X_full, y_full, 7)"
   ],
   "metadata": {
    "colab": {
     "base_uri": "https://localhost:8080/"
    },
    "id": "I5-LOFYMvMor",
    "outputId": "4fb00371-21b1-4122-932e-e8988fb21fea",
    "pycharm": {
     "name": "#%%\n"
    }
   },
   "execution_count": 5,
   "outputs": [
    {
     "name": "stdout",
     "output_type": "stream",
     "text": [
      "Data loaded\n",
      "                      Name  Category\n",
      "0     7a668879d103ba8.jpg         1\n",
      "1     4bab7d342c24e3f.jpg         1\n",
      "2     d6c5e6d46cbbb26.jpg         1\n",
      "3     e215c30192cc297.jpg         1\n",
      "4     0fd2b9ef096d9cb.jpg         1\n",
      "...                   ...       ...\n",
      "5551  d2254621efd8d52.jpg         0\n",
      "5552  de2268621d5e911.jpg         0\n",
      "5553  90fe34f3f8107ee.jpg         0\n",
      "5554  f065035fafcf430.jpg         0\n",
      "5555  30efd0c8a1649e1.jpg         0\n",
      "\n",
      "[5556 rows x 2 columns]\n"
     ]
    }
   ]
  },
  {
   "cell_type": "markdown",
   "source": [
    "## Building DenseNet169"
   ],
   "metadata": {
    "collapsed": false,
    "pycharm": {
     "name": "#%% md\n"
    }
   }
  },
  {
   "cell_type": "code",
   "execution_count": 6,
   "outputs": [],
   "source": [
    "input_shape_densenet = (224, 224, 3)"
   ],
   "metadata": {
    "collapsed": false,
    "pycharm": {
     "name": "#%%\n"
    }
   }
  },
  {
   "cell_type": "code",
   "execution_count": 7,
   "outputs": [],
   "source": [
    "def build_network(trainable: bool):\n",
    "    \"\"\"Pre-processes the data for the model\n",
    "        Returns: densenet_model\n",
    "        - densenet_model is a\n",
    "    \"\"\"\n",
    "    densenet_model = keras.applications.DenseNet169(\n",
    "        include_top=False,\n",
    "        weights=\"imagenet\",\n",
    "        input_tensor=None,\n",
    "        input_shape=input_shape_densenet,\n",
    "        pooling=None\n",
    "    )\n",
    "    densenet_model.trainable = True\n",
    "\n",
    "    if trainable:\n",
    "        for layer in densenet_model.layers:\n",
    "            if 'conv5' in layer.name:\n",
    "                layer.trainable = True\n",
    "            else:\n",
    "                layer.trainable = False\n",
    "\n",
    "    return densenet_model"
   ],
   "metadata": {
    "collapsed": false,
    "pycharm": {
     "name": "#%%\n"
    }
   }
  },
  {
   "cell_type": "markdown",
   "source": [
    "### Add new layers"
   ],
   "metadata": {
    "collapsed": false,
    "pycharm": {
     "name": "#%% md\n"
    }
   }
  },
  {
   "cell_type": "code",
   "execution_count": 8,
   "outputs": [],
   "source": [
    "def add_extra_layers(densenet_model, layer_size: int, dropout: bool, number_of_layers: int):\n",
    "    \"\"\"Add extra layers to a Keras model for transfer learning.\n",
    "        - densenet_model is a pre-trained Keras model with input (224, 224, 3)\n",
    "        - layer_size is an int, the size of the first Dense layer\n",
    "        - dropout is a bool, indicating if a Dropout layer will be added\n",
    "          between Dense layers\n",
    "        Returns: model\n",
    "        - model a Keras model with the layer added\n",
    "    \"\"\"\n",
    "    initializer = keras.initializers.he_normal(seed=32)\n",
    "    inputs = keras.Input(shape=input_shape_densenet)\n",
    "\n",
    "    layer = densenet_model(inputs)\n",
    "    layer = keras.layers.Flatten()(layer)\n",
    "\n",
    "    layer = keras.layers.BatchNormalization()(layer)\n",
    "\n",
    "    for n in range(1, number_of_layers+1):\n",
    "        layer = keras.layers.Dense(units=layer_size/n,\n",
    "                                   activation='relu',\n",
    "                                   kernel_initializer=initializer\n",
    "                                   )(layer)\n",
    "        if dropout:\n",
    "            layer = keras.layers.Dropout(0.5)(layer)\n",
    "\n",
    "        layer = keras.layers.BatchNormalization()(layer)\n",
    "\n",
    "\n",
    "    layer = keras.layers.Dense(units=7,\n",
    "                               activation='softmax',\n",
    "                               kernel_initializer=initializer\n",
    "                               )(layer)\n",
    "\n",
    "    model = keras.models.Model(inputs, outputs=layer)\n",
    "    model.summary()\n",
    "\n",
    "    return model"
   ],
   "metadata": {
    "collapsed": false,
    "pycharm": {
     "name": "#%%\n"
    }
   }
  },
  {
   "cell_type": "markdown",
   "source": [
    "### Validating the results"
   ],
   "metadata": {
    "collapsed": false,
    "pycharm": {
     "name": "#%% md\n"
    }
   }
  },
  {
   "cell_type": "code",
   "execution_count": 9,
   "outputs": [],
   "source": [
    "def train_with_k_fold_cross_validation(n_folds: int, layer_size: int, trainable: bool, dropout: bool, number_of_layers: int):\n",
    "    \"\"\"Create and train a DenseNet model n_folds times with a different training/validation partition data.\n",
    "        - n_folds the number of times the model will be trained\n",
    "        - layer_size is an int, the size of the first Dense layer\n",
    "        - trainable ia a bool, indicating if the last layer of the original model cold be re-trainable\n",
    "        - dropout is a bool, indicating if a Dropout layer will be added\n",
    "          between Dense layers\n",
    "        Returns: histories\n",
    "        - histories a list of size n_folds with the detailed training history of each attempt\n",
    "    \"\"\"\n",
    "    histories = []\n",
    "    for fold in range(n_folds):\n",
    "        network = build_network(trainable)\n",
    "        network = add_extra_layers(network, layer_size, dropout, number_of_layers)\n",
    "        network.compile(loss='categorical_crossentropy',\n",
    "                        optimizer=keras.optimizers.Adam(),\n",
    "                        metrics=['accuracy'])\n",
    "\n",
    "        X_train, X_val, y_train, y_val = train_test_split(X_full_p, y_full_p, test_size=0.2, random_state=fold * 5)\n",
    "        history = network.fit(X_train, y_train, epochs=10, validation_data=(X_val, y_val), verbose=1)\n",
    "        del network\n",
    "        histories.append(history)\n",
    "\n",
    "    return histories"
   ],
   "metadata": {
    "collapsed": false,
    "pycharm": {
     "name": "#%%\n"
    }
   }
  },
  {
   "cell_type": "code",
   "source": [
    "def train_with_simple_holdout_validation(X_train, X_val, y_train, y_val):\n",
    "    network = build_network(True)\n",
    "    network = add_extra_layers(network, 128, True, 1)\n",
    "    network.compile(loss='categorical_crossentropy',\n",
    "                    optimizer=keras.optimizers.Adam(),\n",
    "                    metrics=['accuracy'])\n",
    "\n",
    "    history = network.fit(X_train, y_train, epochs=9, validation_data=(X_val, y_val), verbose=1)\n",
    "\n",
    "    network.save('diagrams.h5')\n",
    "    return network"
   ],
   "metadata": {
    "colab": {
     "base_uri": "https://localhost:8080/"
    },
    "id": "eeuAlqtRwJpa",
    "outputId": "1cd3f7ad-5b33-4a5c-cee6-3953ad3ef852",
    "pycharm": {
     "name": "#%%\n"
    }
   },
   "execution_count": 10,
   "outputs": []
  },
  {
   "cell_type": "markdown",
   "source": [
    "### Running the model"
   ],
   "metadata": {
    "collapsed": false,
    "pycharm": {
     "name": "#%% md\n"
    }
   }
  },
  {
   "cell_type": "code",
   "execution_count": 22,
   "outputs": [
    {
     "name": "stdout",
     "output_type": "stream",
     "text": [
      "Model: \"model_1\"\n",
      "_________________________________________________________________\n",
      " Layer (type)                Output Shape              Param #   \n",
      "=================================================================\n",
      " input_4 (InputLayer)        [(None, 224, 224, 3)]     0         \n",
      "                                                                 \n",
      " densenet169 (Functional)    (None, 7, 7, 1664)        12642880  \n",
      "                                                                 \n",
      " flatten_1 (Flatten)         (None, 81536)             0         \n",
      "                                                                 \n",
      " batch_normalization_2 (Batc  (None, 81536)            326144    \n",
      " hNormalization)                                                 \n",
      "                                                                 \n",
      " dense_2 (Dense)             (None, 128)               10436736  \n",
      "                                                                 \n",
      " dropout_1 (Dropout)         (None, 128)               0         \n",
      "                                                                 \n",
      " batch_normalization_3 (Batc  (None, 128)              512       \n",
      " hNormalization)                                                 \n",
      "                                                                 \n",
      " dense_3 (Dense)             (None, 7)                 903       \n",
      "                                                                 \n",
      "=================================================================\n",
      "Total params: 23,407,175\n",
      "Trainable params: 16,514,567\n",
      "Non-trainable params: 6,892,608\n",
      "_________________________________________________________________\n",
      "Epoch 1/10\n"
     ]
    },
    {
     "name": "stderr",
     "output_type": "stream",
     "text": [
      "2022-08-08 03:46:32.982403: I tensorflow/core/grappler/optimizers/custom_graph_optimizer_registry.cc:113] Plugin optimizer for device_type GPU is enabled.\n"
     ]
    },
    {
     "name": "stdout",
     "output_type": "stream",
     "text": [
      "139/139 [==============================] - ETA: 0s - loss: 0.3763 - accuracy: 0.8852"
     ]
    },
    {
     "name": "stderr",
     "output_type": "stream",
     "text": [
      "2022-08-08 03:47:32.846850: I tensorflow/core/grappler/optimizers/custom_graph_optimizer_registry.cc:113] Plugin optimizer for device_type GPU is enabled.\n"
     ]
    },
    {
     "name": "stdout",
     "output_type": "stream",
     "text": [
      "139/139 [==============================] - 80s 475ms/step - loss: 0.3763 - accuracy: 0.8852 - val_loss: 0.1832 - val_accuracy: 0.9523\n",
      "Epoch 2/10\n",
      "139/139 [==============================] - 59s 421ms/step - loss: 0.1222 - accuracy: 0.9660 - val_loss: 0.0907 - val_accuracy: 0.9712\n",
      "Epoch 3/10\n",
      "139/139 [==============================] - 58s 414ms/step - loss: 0.0698 - accuracy: 0.9775 - val_loss: 0.1050 - val_accuracy: 0.9667\n",
      "Epoch 4/10\n",
      "139/139 [==============================] - 58s 413ms/step - loss: 0.0518 - accuracy: 0.9858 - val_loss: 0.0939 - val_accuracy: 0.9730\n",
      "Epoch 5/10\n",
      "139/139 [==============================] - 58s 417ms/step - loss: 0.0448 - accuracy: 0.9869 - val_loss: 0.0781 - val_accuracy: 0.9802\n",
      "Epoch 6/10\n",
      "139/139 [==============================] - 57s 412ms/step - loss: 0.0348 - accuracy: 0.9908 - val_loss: 0.1311 - val_accuracy: 0.9613\n",
      "Epoch 7/10\n",
      "139/139 [==============================] - 57s 409ms/step - loss: 0.0282 - accuracy: 0.9926 - val_loss: 0.0975 - val_accuracy: 0.9712\n",
      "Epoch 8/10\n",
      "139/139 [==============================] - 56s 401ms/step - loss: 0.0386 - accuracy: 0.9874 - val_loss: 0.1106 - val_accuracy: 0.9721\n",
      "Epoch 9/10\n",
      "139/139 [==============================] - 58s 412ms/step - loss: 0.0222 - accuracy: 0.9939 - val_loss: 0.1042 - val_accuracy: 0.9721\n",
      "Epoch 10/10\n",
      "139/139 [==============================] - 57s 411ms/step - loss: 0.0202 - accuracy: 0.9935 - val_loss: 0.0903 - val_accuracy: 0.9730\n",
      "Model: \"model_2\"\n",
      "_________________________________________________________________\n",
      " Layer (type)                Output Shape              Param #   \n",
      "=================================================================\n",
      " input_6 (InputLayer)        [(None, 224, 224, 3)]     0         \n",
      "                                                                 \n",
      " densenet169 (Functional)    (None, 7, 7, 1664)        12642880  \n",
      "                                                                 \n",
      " flatten_2 (Flatten)         (None, 81536)             0         \n",
      "                                                                 \n",
      " batch_normalization_4 (Batc  (None, 81536)            326144    \n",
      " hNormalization)                                                 \n",
      "                                                                 \n",
      " dense_4 (Dense)             (None, 128)               10436736  \n",
      "                                                                 \n",
      " dropout_2 (Dropout)         (None, 128)               0         \n",
      "                                                                 \n",
      " batch_normalization_5 (Batc  (None, 128)              512       \n",
      " hNormalization)                                                 \n",
      "                                                                 \n",
      " dense_5 (Dense)             (None, 7)                 903       \n",
      "                                                                 \n",
      "=================================================================\n",
      "Total params: 23,407,175\n",
      "Trainable params: 23,085,447\n",
      "Non-trainable params: 321,728\n",
      "_________________________________________________________________\n",
      "Epoch 1/10\n"
     ]
    },
    {
     "name": "stderr",
     "output_type": "stream",
     "text": [
      "2022-08-08 03:56:52.591367: I tensorflow/core/grappler/optimizers/custom_graph_optimizer_registry.cc:113] Plugin optimizer for device_type GPU is enabled.\n"
     ]
    },
    {
     "name": "stdout",
     "output_type": "stream",
     "text": [
      "139/139 [==============================] - ETA: 0s - loss: 0.5820 - accuracy: 0.8182"
     ]
    },
    {
     "name": "stderr",
     "output_type": "stream",
     "text": [
      "2022-08-08 03:59:01.587882: I tensorflow/core/grappler/optimizers/custom_graph_optimizer_registry.cc:113] Plugin optimizer for device_type GPU is enabled.\n"
     ]
    },
    {
     "name": "stdout",
     "output_type": "stream",
     "text": [
      "139/139 [==============================] - 153s 951ms/step - loss: 0.5820 - accuracy: 0.8182 - val_loss: 1.3286 - val_accuracy: 0.7437\n",
      "Epoch 2/10\n",
      "139/139 [==============================] - 124s 888ms/step - loss: 0.2537 - accuracy: 0.9219 - val_loss: 0.8900 - val_accuracy: 0.7419\n",
      "Epoch 3/10\n",
      "139/139 [==============================] - 124s 884ms/step - loss: 0.2086 - accuracy: 0.9392 - val_loss: 1.1409 - val_accuracy: 0.6969\n",
      "Epoch 4/10\n",
      "139/139 [==============================] - 124s 887ms/step - loss: 0.1163 - accuracy: 0.9635 - val_loss: 1.0123 - val_accuracy: 0.7329\n",
      "Epoch 5/10\n",
      "139/139 [==============================] - 125s 898ms/step - loss: 0.0934 - accuracy: 0.9737 - val_loss: 0.1697 - val_accuracy: 0.9460\n",
      "Epoch 6/10\n",
      "139/139 [==============================] - 125s 893ms/step - loss: 0.0916 - accuracy: 0.9696 - val_loss: 0.2291 - val_accuracy: 0.9218\n",
      "Epoch 7/10\n",
      "139/139 [==============================] - 123s 881ms/step - loss: 0.1071 - accuracy: 0.9671 - val_loss: 0.5190 - val_accuracy: 0.8453\n",
      "Epoch 8/10\n",
      "139/139 [==============================] - 124s 886ms/step - loss: 0.0639 - accuracy: 0.9802 - val_loss: 0.1215 - val_accuracy: 0.9604\n",
      "Epoch 9/10\n",
      "139/139 [==============================] - 125s 893ms/step - loss: 0.0404 - accuracy: 0.9869 - val_loss: 0.2357 - val_accuracy: 0.9299\n",
      "Epoch 10/10\n",
      "139/139 [==============================] - 122s 875ms/step - loss: 0.0404 - accuracy: 0.9883 - val_loss: 0.1932 - val_accuracy: 0.9442\n"
     ]
    }
   ],
   "source": [
    "history_ini = []\n",
    "folds = 4\n",
    "max_layers = 3\n",
    "TL = [True, False]\n",
    "for op in TL:\n",
    "    h = np.array(train_with_k_fold_cross_validation(folds, 128, op, True, 1))\n",
    "    history_ini.append(h)"
   ],
   "metadata": {
    "collapsed": false,
    "pycharm": {
     "name": "#%%\n"
    }
   }
  },
  {
   "cell_type": "markdown",
   "source": [
    "### Showing the results"
   ],
   "metadata": {
    "collapsed": false,
    "pycharm": {
     "name": "#%% md\n"
    }
   }
  },
  {
   "cell_type": "code",
   "execution_count": 19,
   "outputs": [],
   "source": [
    "def show_and_predict_img(name: str, model):\n",
    "    img = cv2.imread('test/' + name, cv2.IMREAD_ANYCOLOR)\n",
    "    im = np.array([img])\n",
    "    im = keras.applications.densenet.preprocess_input(im)\n",
    "\n",
    "    cv2.imshow('img', img)\n",
    "    cv2.waitKey(0)\n",
    "    return model.predict(im)"
   ],
   "metadata": {
    "collapsed": false,
    "pycharm": {
     "name": "#%%\n"
    }
   }
  },
  {
   "cell_type": "code",
   "execution_count": 20,
   "outputs": [],
   "source": [
    "def get_history_mean(k_history, prop: str):\n",
    "    val_acc = [h.history[prop] for h in k_history]\n",
    "    mean = np.mean(val_acc, axis=0)\n",
    "    return mean"
   ],
   "metadata": {
    "collapsed": false,
    "pycharm": {
     "name": "#%%\n"
    }
   }
  },
  {
   "cell_type": "code",
   "execution_count": 19,
   "outputs": [
    {
     "data": {
      "text/plain": "<Figure size 432x288 with 1 Axes>",
      "image/png": "[encoded data removed]"
     },
     "metadata": {
      "needs_background": "light"
     },
     "output_type": "display_data"
    }
   ],
   "source": [
    "means = map(get_history_mean, history, ['val_accuracy'] * len(history))\n",
    "\n",
    "plot_model_accuracy(means, ['0', '1', '2', '3'])"
   ],
   "metadata": {
    "collapsed": false,
    "pycharm": {
     "name": "#%%\n"
    }
   }
  },
  {
   "cell_type": "code",
   "execution_count": 11,
   "outputs": [],
   "source": [
    "def plot_model_accuracy(accs, losses, legends):\n",
    "    plt.figure(figsize=(12,4))\n",
    "    plt.subplot(1,2,1)\n",
    "    for acc in accs:\n",
    "        plt.plot(acc)\n",
    "        l = len(acc) - 1\n",
    "        plt.text(l, acc[l], \"{:.1f}%\".format(acc[l] * 100))\n",
    "    plt.legend(legends, loc='lower right')\n",
    "    plt.title('model accuracy')\n",
    "    plt.ylabel('accuracy')\n",
    "    plt.xlabel('epoch')\n",
    "\n",
    "    plt.subplot(1,2,2)\n",
    "    for loss in losses:\n",
    "        plt.plot(loss)\n",
    "        l = len(loss) - 1\n",
    "        plt.text(l, loss[l], \"{:.1f}%\".format(loss[l] * 100))\n",
    "    plt.legend(legends, loc='upper right')\n",
    "    plt.title('model loss')\n",
    "    plt.ylabel('loss')\n",
    "    plt.xlabel('epoch')\n",
    "    plt.savefig('number_of_layers.png')\n",
    "    plt.show()"
   ],
   "metadata": {
    "collapsed": false,
    "pycharm": {
     "name": "#%%\n"
    }
   }
  },
  {
   "cell_type": "code",
   "execution_count": 23,
   "outputs": [
    {
     "data": {
      "text/plain": "<Figure size 864x288 with 2 Axes>",
      "image/png": "[encoded data removed]"
     },
     "metadata": {
      "needs_background": "light"
     },
     "output_type": "display_data"
    }
   ],
   "source": [
    "val_acc = map(get_history_mean, history_ini, ['val_accuracy'] * len(history_ini))\n",
    "acc = map(get_history_mean, history_ini, ['accuracy'] * len(history_ini))\n",
    "val_loss = map(get_history_mean, history_ini, ['val_loss'] * len(history_ini))\n",
    "loss = map(get_history_mean, history_ini, ['val_loss'] * len(history_ini))\n",
    "\n",
    "plot_model_accuracy(val_acc, loss, [\"Transfer learning\", \"Full training\"])"
   ],
   "metadata": {
    "collapsed": false,
    "pycharm": {
     "name": "#%%\n"
    }
   }
  },
  {
   "cell_type": "markdown",
   "source": [
    "### Validating and mesure model"
   ],
   "metadata": {
    "collapsed": false,
    "pycharm": {
     "name": "#%% md\n"
    }
   }
  },
  {
   "cell_type": "code",
   "execution_count": 17,
   "outputs": [],
   "source": [
    "def validate_failed(model, X, y, X_original, show_image: bool):\n",
    "    prob = model.predict(X, verbose=1)\n",
    "    predictions = prob.argmax(axis=-1)\n",
    "    expected_y = y.argmax(axis=-1)\n",
    "    fails = 0\n",
    "    for i in range(len(predictions)):\n",
    "        if predictions[i] != expected_y[i]:\n",
    "            fails += 1\n",
    "            if show_image:\n",
    "                hash = hashlib.sha1(X_original[i]).hexdigest()[:15]\n",
    "                name = map_to_name[hash]\n",
    "                print(\n",
    "                    f'\\r{name} Expected {expected_y[i]} ({prob[i][expected_y[i]]}) but got {predictions[i]} ({prob[i][predictions[i]]})',\n",
    "                    flush=True, end=' ' * 50)\n",
    "                cv2.imshow('Failed', X_val[i])\n",
    "                cv2.imshow('Original', X_original[i])\n",
    "                cv2.waitKey(0)\n",
    "    print(f'Failed: {fails}')\n",
    "\n",
    "    return classification_report(expected_y, predictions, digits=4)"
   ],
   "metadata": {
    "collapsed": false,
    "pycharm": {
     "name": "#%%\n"
    }
   }
  },
  {
   "cell_type": "code",
   "execution_count": 13,
   "outputs": [
    {
     "name": "stderr",
     "output_type": "stream",
     "text": [
      "2022-08-07 21:45:38.793762: I tensorflow/core/common_runtime/pluggable_device/pluggable_device_factory.cc:305] Could not identify NUMA node of platform GPU ID 0, defaulting to 0. Your kernel may not have been built with NUMA support.\n",
      "2022-08-07 21:45:38.794196: I tensorflow/core/common_runtime/pluggable_device/pluggable_device_factory.cc:271] Created TensorFlow device (/job:localhost/replica:0/task:0/device:GPU:0 with 0 MB memory) -> physical PluggableDevice (device: 0, name: METAL, pci bus id: <undefined>)\n"
     ]
    },
    {
     "name": "stdout",
     "output_type": "stream",
     "text": [
      "Metal device set to: Apple M1 Pro\n",
      "Model: \"model\"\n",
      "_________________________________________________________________\n",
      " Layer (type)                Output Shape              Param #   \n",
      "=================================================================\n",
      " input_2 (InputLayer)        [(None, 224, 224, 3)]     0         \n",
      "                                                                 \n",
      " densenet169 (Functional)    (None, 7, 7, 1664)        12642880  \n",
      "                                                                 \n",
      " flatten (Flatten)           (None, 81536)             0         \n",
      "                                                                 \n",
      " batch_normalization (BatchN  (None, 81536)            326144    \n",
      " ormalization)                                                   \n",
      "                                                                 \n",
      " dense (Dense)               (None, 128)               10436736  \n",
      "                                                                 \n",
      " dropout (Dropout)           (None, 128)               0         \n",
      "                                                                 \n",
      " batch_normalization_1 (Batc  (None, 128)              512       \n",
      " hNormalization)                                                 \n",
      "                                                                 \n",
      " dense_1 (Dense)             (None, 7)                 903       \n",
      "                                                                 \n",
      "=================================================================\n",
      "Total params: 23,407,175\n",
      "Trainable params: 16,514,567\n",
      "Non-trainable params: 6,892,608\n",
      "_________________________________________________________________\n",
      "Epoch 1/9\n"
     ]
    },
    {
     "name": "stderr",
     "output_type": "stream",
     "text": [
      "2022-08-07 21:45:43.919718: W tensorflow/core/platform/profile_utils/cpu_utils.cc:128] Failed to get CPU frequency: 0 Hz\n",
      "2022-08-07 21:45:48.608564: I tensorflow/core/grappler/optimizers/custom_graph_optimizer_registry.cc:113] Plugin optimizer for device_type GPU is enabled.\n"
     ]
    },
    {
     "name": "stdout",
     "output_type": "stream",
     "text": [
      "139/139 [==============================] - ETA: 0s - loss: 0.3445 - accuracy: 0.8927"
     ]
    },
    {
     "name": "stderr",
     "output_type": "stream",
     "text": [
      "2022-08-07 21:47:07.075152: I tensorflow/core/grappler/optimizers/custom_graph_optimizer_registry.cc:113] Plugin optimizer for device_type GPU is enabled.\n"
     ]
    },
    {
     "name": "stdout",
     "output_type": "stream",
     "text": [
      "139/139 [==============================] - 97s 643ms/step - loss: 0.3445 - accuracy: 0.8927 - val_loss: 0.2019 - val_accuracy: 0.9433\n",
      "Epoch 2/9\n",
      "139/139 [==============================] - 55s 398ms/step - loss: 0.0997 - accuracy: 0.9734 - val_loss: 0.1229 - val_accuracy: 0.9568\n",
      "Epoch 3/9\n",
      "139/139 [==============================] - 54s 386ms/step - loss: 0.0715 - accuracy: 0.9806 - val_loss: 0.1058 - val_accuracy: 0.9712\n",
      "Epoch 4/9\n",
      "139/139 [==============================] - 55s 398ms/step - loss: 0.0404 - accuracy: 0.9876 - val_loss: 0.1264 - val_accuracy: 0.9676\n",
      "Epoch 5/9\n",
      "139/139 [==============================] - 56s 402ms/step - loss: 0.0433 - accuracy: 0.9865 - val_loss: 0.0935 - val_accuracy: 0.9775\n",
      "Epoch 6/9\n",
      "139/139 [==============================] - 56s 402ms/step - loss: 0.0475 - accuracy: 0.9840 - val_loss: 0.1744 - val_accuracy: 0.9568\n",
      "Epoch 7/9\n",
      "139/139 [==============================] - 55s 393ms/step - loss: 0.0319 - accuracy: 0.9905 - val_loss: 0.1116 - val_accuracy: 0.9730\n",
      "Epoch 8/9\n",
      "139/139 [==============================] - 54s 389ms/step - loss: 0.0194 - accuracy: 0.9944 - val_loss: 0.1001 - val_accuracy: 0.9730\n",
      "Epoch 9/9\n",
      "139/139 [==============================] - 55s 392ms/step - loss: 0.0139 - accuracy: 0.9964 - val_loss: 0.0949 - val_accuracy: 0.9784\n"
     ]
    }
   ],
   "source": [
    "seed = 40\n",
    "\n",
    "X_train, X_val, y_train, y_val = train_test_split(X_full_p, y_full_p, test_size=0.2, random_state=seed)\n",
    "_, X_original, _, _ = train_test_split(X_full, y_full, test_size=0.2, random_state=seed)\n",
    "\n",
    "model = train_with_simple_holdout_validation(X_train, X_val, y_train, y_val)"
   ],
   "metadata": {
    "collapsed": false,
    "pycharm": {
     "name": "#%%\n"
    }
   }
  },
  {
   "cell_type": "code",
   "execution_count": 18,
   "outputs": [
    {
     "name": "stdout",
     "output_type": "stream",
     "text": [
      "35/35 [==============================] - 8s 190ms/step\n",
      "Failed: 24\n",
      "              precision    recall  f1-score   support\n",
      "\n",
      "           0     0.9950    0.9659    0.9802       205\n",
      "           1     0.9921    0.9766    0.9843       128\n",
      "           2     0.9939    0.9878    0.9908       164\n",
      "           3     0.9667    0.9902    0.9783       205\n",
      "           4     0.9677    0.9231    0.9449        65\n",
      "           5     0.9632    0.9752    0.9691       161\n",
      "           6     0.9683    0.9946    0.9812       184\n",
      "\n",
      "    accuracy                         0.9784      1112\n",
      "   macro avg     0.9781    0.9733    0.9755      1112\n",
      "weighted avg     0.9786    0.9784    0.9784      1112\n",
      "\n"
     ]
    }
   ],
   "source": [
    "failed = validate_failed(model, X_val, y_val, X_original, False)\n",
    "print(failed)"
   ],
   "metadata": {
    "collapsed": false,
    "pycharm": {
     "name": "#%%\n"
    }
   }
  },
  {
   "cell_type": "markdown",
   "source": [
    "### Testing new cases"
   ],
   "metadata": {
    "collapsed": false,
    "pycharm": {
     "name": "#%% md\n"
    }
   }
  },
  {
   "cell_type": "code",
   "execution_count": null,
   "outputs": [],
   "source": [
    "loaded_model = keras.models.load_model('diagrams.h5')"
   ],
   "metadata": {
    "collapsed": false,
    "pycharm": {
     "name": "#%%\n"
    }
   }
  },
  {
   "cell_type": "code",
   "execution_count": 14,
   "outputs": [
    {
     "data": {
      "text/plain": "array([[0.00571571, 0.16076495, 0.03779309, 0.16143267, 0.58737206,\n        0.01790639, 0.01244646, 0.01656868]], dtype=float32)"
     },
     "execution_count": 14,
     "metadata": {},
     "output_type": "execute_result"
    }
   ],
   "source": [
    "show_and_predict_img('conceptual.jpg', loaded_model)"
   ],
   "metadata": {
    "collapsed": false,
    "pycharm": {
     "name": "#%%\n"
    }
   }
  }
 ]
}