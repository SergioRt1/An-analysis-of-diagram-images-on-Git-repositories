{
 "cells": [
  {
   "cell_type": "markdown",
   "source": [
    "# Predict dataset"
   ],
   "metadata": {
    "collapsed": false,
    "pycharm": {
     "name": "#%% md\n"
    }
   }
  },
  {
   "cell_type": "code",
   "execution_count": 1,
   "outputs": [],
   "source": [
    "import os\n",
    "import csv\n",
    "import cv2\n",
    "\n",
    "from tensorflow import keras\n",
    "from PIL import Image\n",
    "from PIL.Image import Resampling\n",
    "import numpy as np"
   ],
   "metadata": {
    "collapsed": false,
    "pycharm": {
     "name": "#%%\n"
    }
   }
  },
  {
   "cell_type": "code",
   "execution_count": 2,
   "outputs": [],
   "source": [
    "dataset_folder = 'data_set/'\n",
    "model_path = 'diagrams.h5'\n",
    "result_csv_path = 'csv/results.csv'\n",
    "\n",
    "batch_size = 1000"
   ],
   "metadata": {
    "collapsed": false,
    "pycharm": {
     "name": "#%%\n"
    }
   }
  },
  {
   "cell_type": "code",
   "execution_count": 3,
   "outputs": [],
   "source": [
    "def batch_listdir(path:str, size=1):\n",
    "    i = 0\n",
    "    batch_list = []\n",
    "    for element in os.scandir(path):\n",
    "        if i < size:\n",
    "            i += 1\n",
    "            batch_list.append(element)\n",
    "        else:\n",
    "            yield batch_list\n",
    "            i = 0\n",
    "            batch_list = []"
   ],
   "metadata": {
    "collapsed": false,
    "pycharm": {
     "name": "#%%\n"
    }
   }
  },
  {
   "cell_type": "code",
   "execution_count": 4,
   "outputs": [
    {
     "name": "stderr",
     "output_type": "stream",
     "text": [
      "2022-07-15 04:35:18.047416: I tensorflow/core/common_runtime/pluggable_device/pluggable_device_factory.cc:305] Could not identify NUMA node of platform GPU ID 0, defaulting to 0. Your kernel may not have been built with NUMA support.\n",
      "2022-07-15 04:35:18.047760: I tensorflow/core/common_runtime/pluggable_device/pluggable_device_factory.cc:271] Created TensorFlow device (/job:localhost/replica:0/task:0/device:GPU:0 with 0 MB memory) -> physical PluggableDevice (device: 0, name: METAL, pci bus id: <undefined>)\n"
     ]
    },
    {
     "name": "stdout",
     "output_type": "stream",
     "text": [
      "Metal device set to: Apple M1 Pro\n"
     ]
    }
   ],
   "source": [
    "loaded_model = keras.models.load_model(model_path)"
   ],
   "metadata": {
    "collapsed": false,
    "pycharm": {
     "name": "#%%\n"
    }
   }
  },
  {
   "cell_type": "code",
   "execution_count": 5,
   "outputs": [],
   "source": [
    "def evaluate_model(dataset_folder_path, model, writer, batch_size = 1):\n",
    "    \"\"\"Loads a dataset of images\n",
    "        - dataset_folder_path is the path of the folder that contains the images\n",
    "        - csv_path is the path of the CSV file that contains the labels of the images\n",
    "        Returns: X_data, y_labeled\n",
    "        - X_data is a numpy.ndarray containing the pixel data of an image X\n",
    "        - y_labeled is a numpy.ndarray containing an int, the label Y for the image X in that index\n",
    "    \"\"\"\n",
    "    n = 0\n",
    "    for image_batch in batch_listdir(dataset_folder_path, batch_size):\n",
    "        X_data = []\n",
    "        not_loaded = []\n",
    "        print(f'\\rReading batch #{n}, size: {len(batch_size)}', flush=True, end=' ' * 50)\n",
    "        for i in range(len(image_batch)):\n",
    "            image = get_normalize_image(image_batch[i].path)\n",
    "            if image is None:\n",
    "                not_loaded.append(i)\n",
    "            else:\n",
    "                X_data.append(image)\n",
    "\n",
    "        for i in not_loaded:\n",
    "            image_batch.pop(i)\n",
    "        X_data = np.array(X_data, dtype=np.uint8)\n",
    "        X_data = keras.applications.densenet.preprocess_input(X_data)\n",
    "        print(f'\\rProcessing batch #{n}, size: {len(X_data)}', flush=True, end=' ' * 50)\n",
    "        prob = model.predict_on_batch(X_data)\n",
    "        bests = prob.argmax(axis=-1)\n",
    "        prob_text = [['{:.6f}'.format(v) for v in p] for p in prob]\n",
    "        rows = [[image_batch[i].name, str(bests[i])] + prob_text[i] for i in range(len(image_batch))]\n",
    "\n",
    "        writer.writerows(rows)\n",
    "        n += 1"
   ],
   "metadata": {
    "collapsed": false,
    "pycharm": {
     "name": "#%%\n"
    }
   }
  },
  {
   "cell_type": "code",
   "execution_count": 6,
   "outputs": [],
   "source": [
    "def get_normalize_image(path: str):\n",
    "    try:\n",
    "        img = Image.open(path)\n",
    "        img = img.convert('RGB').resize((224, 224), Resampling.LANCZOS)\n",
    "        pixels = np.array(img, dtype=np.uint8)\n",
    "        pixels_conv = cv2.cvtColor(pixels, cv2.COLOR_RGB2BGR)\n",
    "\n",
    "        return pixels_conv\n",
    "    except Exception as e:\n",
    "        pass"
   ],
   "metadata": {
    "collapsed": false,
    "pycharm": {
     "name": "#%%\n"
    }
   }
  },
  {
   "cell_type": "code",
   "execution_count": 7,
   "outputs": [],
   "source": [
    "csv_file = open(result_csv_path, mode='w')\n",
    "csv_writer = csv.writer(csv_file)"
   ],
   "metadata": {
    "collapsed": false,
    "pycharm": {
     "name": "#%%\n"
    }
   }
  },
  {
   "cell_type": "code",
   "execution_count": 8,
   "outputs": [
    {
     "name": "stdout",
     "output_type": "stream",
     "text": [
      "Reading batch #0, size: 0                                                  "
     ]
    },
    {
     "name": "stderr",
     "output_type": "stream",
     "text": [
      "/Users/SergioAndresRodriguezTorres/Documents/escuelaing/Maestria/tesis/ML/venv/lib/python3.8/site-packages/PIL/Image.py:992: UserWarning: Palette images with Transparency expressed in bytes should be converted to RGBA images\n",
      "  warnings.warn(\n"
     ]
    },
    {
     "name": "stdout",
     "output_type": "stream",
     "text": [
      "Processing batch #0, size: 1000                                                  "
     ]
    },
    {
     "name": "stderr",
     "output_type": "stream",
     "text": [
      "2022-07-15 04:35:33.615464: W tensorflow/core/platform/profile_utils/cpu_utils.cc:128] Failed to get CPU frequency: 0 Hz\n",
      "2022-07-15 04:35:33.616177: I tensorflow/core/grappler/optimizers/custom_graph_optimizer_registry.cc:113] Plugin optimizer for device_type GPU is enabled.\n"
     ]
    },
    {
     "name": "stdout",
     "output_type": "stream",
     "text": [
      "Processing batch #3, size: 999                                                   "
     ]
    },
    {
     "name": "stderr",
     "output_type": "stream",
     "text": [
      "2022-07-15 04:36:40.013975: I tensorflow/core/grappler/optimizers/custom_graph_optimizer_registry.cc:113] Plugin optimizer for device_type GPU is enabled.\n"
     ]
    },
    {
     "name": "stdout",
     "output_type": "stream",
     "text": [
      "Processing batch #4, size: 998                                                  "
     ]
    },
    {
     "name": "stderr",
     "output_type": "stream",
     "text": [
      "2022-07-15 04:37:05.246678: I tensorflow/core/grappler/optimizers/custom_graph_optimizer_registry.cc:113] Plugin optimizer for device_type GPU is enabled.\n"
     ]
    },
    {
     "name": "stdout",
     "output_type": "stream",
     "text": [
      "Reading batch #52, size: 0                                                        "
     ]
    },
    {
     "name": "stderr",
     "output_type": "stream",
     "text": [
      "/Users/SergioAndresRodriguezTorres/Documents/escuelaing/Maestria/tesis/ML/venv/lib/python3.8/site-packages/PIL/TiffImagePlugin.py:845: UserWarning: Truncated File Read\n",
      "  warnings.warn(str(msg))\n"
     ]
    },
    {
     "name": "stdout",
     "output_type": "stream",
     "text": [
      "Reading batch #78, size: 0                                                        "
     ]
    },
    {
     "name": "stderr",
     "output_type": "stream",
     "text": [
      "/Users/SergioAndresRodriguezTorres/Documents/escuelaing/Maestria/tesis/ML/venv/lib/python3.8/site-packages/PIL/Image.py:3011: DecompressionBombWarning: Image size (129600000 pixels) exceeds limit of 89478485 pixels, could be decompression bomb DOS attack.\n",
      "  warnings.warn(\n"
     ]
    },
    {
     "name": "stdout",
     "output_type": "stream",
     "text": [
      "Reading batch #89, size: 0                                                        "
     ]
    },
    {
     "name": "stderr",
     "output_type": "stream",
     "text": [
      "/Users/SergioAndresRodriguezTorres/Documents/escuelaing/Maestria/tesis/ML/venv/lib/python3.8/site-packages/PIL/Image.py:3011: DecompressionBombWarning: Image size (100000000 pixels) exceeds limit of 89478485 pixels, could be decompression bomb DOS attack.\n",
      "  warnings.warn(\n"
     ]
    },
    {
     "name": "stdout",
     "output_type": "stream",
     "text": [
      "Reading batch #117, size: 0                                                        "
     ]
    },
    {
     "name": "stderr",
     "output_type": "stream",
     "text": [
      "/Users/SergioAndresRodriguezTorres/Documents/escuelaing/Maestria/tesis/ML/venv/lib/python3.8/site-packages/PIL/Image.py:3011: DecompressionBombWarning: Image size (137514981 pixels) exceeds limit of 89478485 pixels, could be decompression bomb DOS attack.\n",
      "  warnings.warn(\n"
     ]
    },
    {
     "name": "stdout",
     "output_type": "stream",
     "text": [
      "Reading batch #180, size: 0                                                        "
     ]
    },
    {
     "name": "stderr",
     "output_type": "stream",
     "text": [
      "/Users/SergioAndresRodriguezTorres/Documents/escuelaing/Maestria/tesis/ML/venv/lib/python3.8/site-packages/PIL/Image.py:3011: DecompressionBombWarning: Image size (132489150 pixels) exceeds limit of 89478485 pixels, could be decompression bomb DOS attack.\n",
      "  warnings.warn(\n"
     ]
    },
    {
     "name": "stdout",
     "output_type": "stream",
     "text": [
      "Reading batch #191, size: 0                                                        "
     ]
    },
    {
     "name": "stderr",
     "output_type": "stream",
     "text": [
      "/Users/SergioAndresRodriguezTorres/Documents/escuelaing/Maestria/tesis/ML/venv/lib/python3.8/site-packages/PIL/Image.py:3011: DecompressionBombWarning: Image size (100434480 pixels) exceeds limit of 89478485 pixels, could be decompression bomb DOS attack.\n",
      "  warnings.warn(\n"
     ]
    },
    {
     "name": "stdout",
     "output_type": "stream",
     "text": [
      "Reading batch #216, size: 0                                                        "
     ]
    },
    {
     "name": "stderr",
     "output_type": "stream",
     "text": [
      "/Users/SergioAndresRodriguezTorres/Documents/escuelaing/Maestria/tesis/ML/venv/lib/python3.8/site-packages/PIL/Image.py:3011: DecompressionBombWarning: Image size (111602139 pixels) exceeds limit of 89478485 pixels, could be decompression bomb DOS attack.\n",
      "  warnings.warn(\n"
     ]
    },
    {
     "name": "stdout",
     "output_type": "stream",
     "text": [
      "Reading batch #253, size: 0                                                        "
     ]
    },
    {
     "name": "stderr",
     "output_type": "stream",
     "text": [
      "/Users/SergioAndresRodriguezTorres/Documents/escuelaing/Maestria/tesis/ML/venv/lib/python3.8/site-packages/PIL/Image.py:3011: DecompressionBombWarning: Image size (139201551 pixels) exceeds limit of 89478485 pixels, could be decompression bomb DOS attack.\n",
      "  warnings.warn(\n"
     ]
    },
    {
     "name": "stdout",
     "output_type": "stream",
     "text": [
      "Reading batch #291, size: 0                                                        "
     ]
    },
    {
     "name": "stderr",
     "output_type": "stream",
     "text": [
      "/Users/SergioAndresRodriguezTorres/Documents/escuelaing/Maestria/tesis/ML/venv/lib/python3.8/site-packages/PIL/Image.py:3011: DecompressionBombWarning: Image size (130991364 pixels) exceeds limit of 89478485 pixels, could be decompression bomb DOS attack.\n",
      "  warnings.warn(\n"
     ]
    },
    {
     "name": "stdout",
     "output_type": "stream",
     "text": [
      "Reading batch #302, size: 0                                                        "
     ]
    },
    {
     "name": "stderr",
     "output_type": "stream",
     "text": [
      "/Users/SergioAndresRodriguezTorres/Documents/escuelaing/Maestria/tesis/ML/venv/lib/python3.8/site-packages/PIL/Image.py:3011: DecompressionBombWarning: Image size (113246208 pixels) exceeds limit of 89478485 pixels, could be decompression bomb DOS attack.\n",
      "  warnings.warn(\n"
     ]
    },
    {
     "name": "stdout",
     "output_type": "stream",
     "text": [
      "Reading batch #322, size: 0                                                        "
     ]
    },
    {
     "name": "stderr",
     "output_type": "stream",
     "text": [
      "/Users/SergioAndresRodriguezTorres/Documents/escuelaing/Maestria/tesis/ML/venv/lib/python3.8/site-packages/PIL/Image.py:3011: DecompressionBombWarning: Image size (144000000 pixels) exceeds limit of 89478485 pixels, could be decompression bomb DOS attack.\n",
      "  warnings.warn(\n"
     ]
    },
    {
     "name": "stdout",
     "output_type": "stream",
     "text": [
      "Reading batch #333, size: 0                                                        "
     ]
    },
    {
     "name": "stderr",
     "output_type": "stream",
     "text": [
      "/Users/SergioAndresRodriguezTorres/Documents/escuelaing/Maestria/tesis/ML/venv/lib/python3.8/site-packages/PIL/Image.py:3011: DecompressionBombWarning: Image size (99217125 pixels) exceeds limit of 89478485 pixels, could be decompression bomb DOS attack.\n",
      "  warnings.warn(\n"
     ]
    },
    {
     "name": "stdout",
     "output_type": "stream",
     "text": [
      "Reading batch #351, size: 0                                                        "
     ]
    },
    {
     "name": "stderr",
     "output_type": "stream",
     "text": [
      "/Users/SergioAndresRodriguezTorres/Documents/escuelaing/Maestria/tesis/ML/venv/lib/python3.8/site-packages/PIL/Image.py:3011: DecompressionBombWarning: Image size (96349568 pixels) exceeds limit of 89478485 pixels, could be decompression bomb DOS attack.\n",
      "  warnings.warn(\n",
      "/Users/SergioAndresRodriguezTorres/Documents/escuelaing/Maestria/tesis/ML/venv/lib/python3.8/site-packages/PIL/Image.py:3011: DecompressionBombWarning: Image size (91715052 pixels) exceeds limit of 89478485 pixels, could be decompression bomb DOS attack.\n",
      "  warnings.warn(\n"
     ]
    },
    {
     "name": "stdout",
     "output_type": "stream",
     "text": [
      "Reading batch #462, size: 0                                                        "
     ]
    },
    {
     "name": "stderr",
     "output_type": "stream",
     "text": [
      "/Users/SergioAndresRodriguezTorres/Documents/escuelaing/Maestria/tesis/ML/venv/lib/python3.8/site-packages/PIL/Image.py:3011: DecompressionBombWarning: Image size (92036464 pixels) exceeds limit of 89478485 pixels, could be decompression bomb DOS attack.\n",
      "  warnings.warn(\n"
     ]
    },
    {
     "name": "stdout",
     "output_type": "stream",
     "text": [
      "Reading batch #488, size: 0                                                        "
     ]
    },
    {
     "name": "stderr",
     "output_type": "stream",
     "text": [
      "/Users/SergioAndresRodriguezTorres/Documents/escuelaing/Maestria/tesis/ML/venv/lib/python3.8/site-packages/PIL/Image.py:3011: DecompressionBombWarning: Image size (126983248 pixels) exceeds limit of 89478485 pixels, could be decompression bomb DOS attack.\n",
      "  warnings.warn(\n"
     ]
    },
    {
     "name": "stdout",
     "output_type": "stream",
     "text": [
      "Reading batch #501, size: 0                                                        "
     ]
    },
    {
     "name": "stderr",
     "output_type": "stream",
     "text": [
      "/Users/SergioAndresRodriguezTorres/Documents/escuelaing/Maestria/tesis/ML/venv/lib/python3.8/site-packages/PIL/Image.py:3011: DecompressionBombWarning: Image size (122665992 pixels) exceeds limit of 89478485 pixels, could be decompression bomb DOS attack.\n",
      "  warnings.warn(\n"
     ]
    },
    {
     "name": "stdout",
     "output_type": "stream",
     "text": [
      "Reading batch #504, size: 0                                                        "
     ]
    },
    {
     "name": "stderr",
     "output_type": "stream",
     "text": [
      "/Users/SergioAndresRodriguezTorres/Documents/escuelaing/Maestria/tesis/ML/venv/lib/python3.8/site-packages/PIL/Image.py:3011: DecompressionBombWarning: Image size (138754000 pixels) exceeds limit of 89478485 pixels, could be decompression bomb DOS attack.\n",
      "  warnings.warn(\n"
     ]
    },
    {
     "name": "stdout",
     "output_type": "stream",
     "text": [
      "Reading batch #510, size: 0                                                        "
     ]
    },
    {
     "name": "stderr",
     "output_type": "stream",
     "text": [
      "/Users/SergioAndresRodriguezTorres/Documents/escuelaing/Maestria/tesis/ML/venv/lib/python3.8/site-packages/PIL/Image.py:3011: DecompressionBombWarning: Image size (105107373 pixels) exceeds limit of 89478485 pixels, could be decompression bomb DOS attack.\n",
      "  warnings.warn(\n"
     ]
    },
    {
     "name": "stdout",
     "output_type": "stream",
     "text": [
      "Reading batch #585, size: 0                                                        "
     ]
    },
    {
     "name": "stderr",
     "output_type": "stream",
     "text": [
      "/Users/SergioAndresRodriguezTorres/Documents/escuelaing/Maestria/tesis/ML/venv/lib/python3.8/site-packages/PIL/Image.py:3011: DecompressionBombWarning: Image size (112266000 pixels) exceeds limit of 89478485 pixels, could be decompression bomb DOS attack.\n",
      "  warnings.warn(\n"
     ]
    },
    {
     "name": "stdout",
     "output_type": "stream",
     "text": [
      "Reading batch #684, size: 0                                                        "
     ]
    },
    {
     "name": "stderr",
     "output_type": "stream",
     "text": [
      "/Users/SergioAndresRodriguezTorres/Documents/escuelaing/Maestria/tesis/ML/venv/lib/python3.8/site-packages/PIL/Image.py:3011: DecompressionBombWarning: Image size (128497743 pixels) exceeds limit of 89478485 pixels, could be decompression bomb DOS attack.\n",
      "  warnings.warn(\n"
     ]
    },
    {
     "name": "stdout",
     "output_type": "stream",
     "text": [
      "Reading batch #695, size: 0                                                        "
     ]
    },
    {
     "name": "stderr",
     "output_type": "stream",
     "text": [
      "/Users/SergioAndresRodriguezTorres/Documents/escuelaing/Maestria/tesis/ML/venv/lib/python3.8/site-packages/PIL/Image.py:3011: DecompressionBombWarning: Image size (125149200 pixels) exceeds limit of 89478485 pixels, could be decompression bomb DOS attack.\n",
      "  warnings.warn(\n"
     ]
    },
    {
     "name": "stdout",
     "output_type": "stream",
     "text": [
      "Reading batch #718, size: 0                                                        "
     ]
    },
    {
     "name": "stderr",
     "output_type": "stream",
     "text": [
      "/Users/SergioAndresRodriguezTorres/Documents/escuelaing/Maestria/tesis/ML/venv/lib/python3.8/site-packages/PIL/Image.py:3011: DecompressionBombWarning: Image size (100174764 pixels) exceeds limit of 89478485 pixels, could be decompression bomb DOS attack.\n",
      "  warnings.warn(\n"
     ]
    },
    {
     "name": "stdout",
     "output_type": "stream",
     "text": [
      "Reading batch #734, size: 0                                                        "
     ]
    },
    {
     "name": "stderr",
     "output_type": "stream",
     "text": [
      "/Users/SergioAndresRodriguezTorres/Documents/escuelaing/Maestria/tesis/ML/venv/lib/python3.8/site-packages/PIL/Image.py:3011: DecompressionBombWarning: Image size (104857600 pixels) exceeds limit of 89478485 pixels, could be decompression bomb DOS attack.\n",
      "  warnings.warn(\n"
     ]
    },
    {
     "name": "stdout",
     "output_type": "stream",
     "text": [
      "Reading batch #910, size: 0                                                        "
     ]
    },
    {
     "name": "stderr",
     "output_type": "stream",
     "text": [
      "/Users/SergioAndresRodriguezTorres/Documents/escuelaing/Maestria/tesis/ML/venv/lib/python3.8/site-packages/PIL/Image.py:3011: DecompressionBombWarning: Image size (94386880 pixels) exceeds limit of 89478485 pixels, could be decompression bomb DOS attack.\n",
      "  warnings.warn(\n"
     ]
    },
    {
     "name": "stdout",
     "output_type": "stream",
     "text": [
      "Reading batch #933, size: 0                                                        "
     ]
    },
    {
     "name": "stderr",
     "output_type": "stream",
     "text": [
      "/Users/SergioAndresRodriguezTorres/Documents/escuelaing/Maestria/tesis/ML/venv/lib/python3.8/site-packages/PIL/Image.py:3011: DecompressionBombWarning: Image size (113007648 pixels) exceeds limit of 89478485 pixels, could be decompression bomb DOS attack.\n",
      "  warnings.warn(\n"
     ]
    },
    {
     "name": "stdout",
     "output_type": "stream",
     "text": [
      "Reading batch #1005, size: 0                                                        "
     ]
    },
    {
     "name": "stderr",
     "output_type": "stream",
     "text": [
      "/Users/SergioAndresRodriguezTorres/Documents/escuelaing/Maestria/tesis/ML/venv/lib/python3.8/site-packages/PIL/Image.py:3011: DecompressionBombWarning: Image size (103109760 pixels) exceeds limit of 89478485 pixels, could be decompression bomb DOS attack.\n",
      "  warnings.warn(\n"
     ]
    },
    {
     "name": "stdout",
     "output_type": "stream",
     "text": [
      "Reading batch #1043, size: 0                                                        "
     ]
    },
    {
     "name": "stderr",
     "output_type": "stream",
     "text": [
      "/Users/SergioAndresRodriguezTorres/Documents/escuelaing/Maestria/tesis/ML/venv/lib/python3.8/site-packages/PIL/Image.py:3011: DecompressionBombWarning: Image size (116640000 pixels) exceeds limit of 89478485 pixels, could be decompression bomb DOS attack.\n",
      "  warnings.warn(\n"
     ]
    },
    {
     "name": "stdout",
     "output_type": "stream",
     "text": [
      "Reading batch #1063, size: 0                                                        "
     ]
    },
    {
     "name": "stderr",
     "output_type": "stream",
     "text": [
      "/Users/SergioAndresRodriguezTorres/Documents/escuelaing/Maestria/tesis/ML/venv/lib/python3.8/site-packages/PIL/Image.py:3011: DecompressionBombWarning: Image size (139101648 pixels) exceeds limit of 89478485 pixels, could be decompression bomb DOS attack.\n",
      "  warnings.warn(\n"
     ]
    },
    {
     "name": "stdout",
     "output_type": "stream",
     "text": [
      "Reading batch #1155, size: 0                                                        "
     ]
    },
    {
     "name": "stderr",
     "output_type": "stream",
     "text": [
      "/Users/SergioAndresRodriguezTorres/Documents/escuelaing/Maestria/tesis/ML/venv/lib/python3.8/site-packages/PIL/Image.py:3011: DecompressionBombWarning: Image size (108000000 pixels) exceeds limit of 89478485 pixels, could be decompression bomb DOS attack.\n",
      "  warnings.warn(\n"
     ]
    },
    {
     "name": "stdout",
     "output_type": "stream",
     "text": [
      "Reading batch #1174, size: 0                                                        "
     ]
    },
    {
     "name": "stderr",
     "output_type": "stream",
     "text": [
      "/Users/SergioAndresRodriguezTorres/Documents/escuelaing/Maestria/tesis/ML/venv/lib/python3.8/site-packages/PIL/Image.py:3011: DecompressionBombWarning: Image size (100172736 pixels) exceeds limit of 89478485 pixels, could be decompression bomb DOS attack.\n",
      "  warnings.warn(\n"
     ]
    },
    {
     "name": "stdout",
     "output_type": "stream",
     "text": [
      "Reading batch #1188, size: 0                                                        "
     ]
    },
    {
     "name": "stderr",
     "output_type": "stream",
     "text": [
      "/Users/SergioAndresRodriguezTorres/Documents/escuelaing/Maestria/tesis/ML/venv/lib/python3.8/site-packages/PIL/Image.py:3011: DecompressionBombWarning: Image size (115200000 pixels) exceeds limit of 89478485 pixels, could be decompression bomb DOS attack.\n",
      "  warnings.warn(\n"
     ]
    },
    {
     "name": "stdout",
     "output_type": "stream",
     "text": [
      "Reading batch #1291, size: 0                                                        "
     ]
    },
    {
     "name": "stderr",
     "output_type": "stream",
     "text": [
      "/Users/SergioAndresRodriguezTorres/Documents/escuelaing/Maestria/tesis/ML/venv/lib/python3.8/site-packages/PIL/Image.py:3011: DecompressionBombWarning: Image size (102539736 pixels) exceeds limit of 89478485 pixels, could be decompression bomb DOS attack.\n",
      "  warnings.warn(\n"
     ]
    },
    {
     "name": "stdout",
     "output_type": "stream",
     "text": [
      "Reading batch #1338, size: 0                                                        "
     ]
    },
    {
     "name": "stderr",
     "output_type": "stream",
     "text": [
      "/Users/SergioAndresRodriguezTorres/Documents/escuelaing/Maestria/tesis/ML/venv/lib/python3.8/site-packages/PIL/Image.py:3011: DecompressionBombWarning: Image size (95765664 pixels) exceeds limit of 89478485 pixels, could be decompression bomb DOS attack.\n",
      "  warnings.warn(\n"
     ]
    },
    {
     "name": "stdout",
     "output_type": "stream",
     "text": [
      "Reading batch #1361, size: 0                                                        "
     ]
    },
    {
     "name": "stderr",
     "output_type": "stream",
     "text": [
      "/Users/SergioAndresRodriguezTorres/Documents/escuelaing/Maestria/tesis/ML/venv/lib/python3.8/site-packages/PIL/Image.py:3011: DecompressionBombWarning: Image size (131072000 pixels) exceeds limit of 89478485 pixels, could be decompression bomb DOS attack.\n",
      "  warnings.warn(\n"
     ]
    },
    {
     "name": "stdout",
     "output_type": "stream",
     "text": [
      "Reading batch #1373, size: 0                                                        "
     ]
    },
    {
     "name": "stderr",
     "output_type": "stream",
     "text": [
      "/Users/SergioAndresRodriguezTorres/Documents/escuelaing/Maestria/tesis/ML/venv/lib/python3.8/site-packages/PIL/Image.py:3011: DecompressionBombWarning: Image size (109598701 pixels) exceeds limit of 89478485 pixels, could be decompression bomb DOS attack.\n",
      "  warnings.warn(\n"
     ]
    },
    {
     "name": "stdout",
     "output_type": "stream",
     "text": [
      "Reading batch #1459, size: 0                                                        "
     ]
    },
    {
     "name": "stderr",
     "output_type": "stream",
     "text": [
      "/Users/SergioAndresRodriguezTorres/Documents/escuelaing/Maestria/tesis/ML/venv/lib/python3.8/site-packages/PIL/Image.py:3011: DecompressionBombWarning: Image size (104344470 pixels) exceeds limit of 89478485 pixels, could be decompression bomb DOS attack.\n",
      "  warnings.warn(\n"
     ]
    },
    {
     "name": "stdout",
     "output_type": "stream",
     "text": [
      "Reading batch #1472, size: 0                                                        "
     ]
    },
    {
     "name": "stderr",
     "output_type": "stream",
     "text": [
      "/Users/SergioAndresRodriguezTorres/Documents/escuelaing/Maestria/tesis/ML/venv/lib/python3.8/site-packages/PIL/Image.py:3011: DecompressionBombWarning: Image size (106093260 pixels) exceeds limit of 89478485 pixels, could be decompression bomb DOS attack.\n",
      "  warnings.warn(\n"
     ]
    },
    {
     "name": "stdout",
     "output_type": "stream",
     "text": [
      "Reading batch #1605, size: 0                                                        "
     ]
    },
    {
     "name": "stderr",
     "output_type": "stream",
     "text": [
      "/Users/SergioAndresRodriguezTorres/Documents/escuelaing/Maestria/tesis/ML/venv/lib/python3.8/site-packages/PIL/Image.py:992: UserWarning: Palette images with Transparency expressed in bytes should be converted to RGBA images\n",
      "  warnings.warn(\n"
     ]
    },
    {
     "name": "stdout",
     "output_type": "stream",
     "text": [
      "Reading batch #1606, size: 0                                                       "
     ]
    },
    {
     "name": "stderr",
     "output_type": "stream",
     "text": [
      "/Users/SergioAndresRodriguezTorres/Documents/escuelaing/Maestria/tesis/ML/venv/lib/python3.8/site-packages/PIL/Image.py:3011: DecompressionBombWarning: Image size (113406587 pixels) exceeds limit of 89478485 pixels, could be decompression bomb DOS attack.\n",
      "  warnings.warn(\n"
     ]
    },
    {
     "name": "stdout",
     "output_type": "stream",
     "text": [
      "Reading batch #1612, size: 0                                                        "
     ]
    },
    {
     "name": "stderr",
     "output_type": "stream",
     "text": [
      "/Users/SergioAndresRodriguezTorres/Documents/escuelaing/Maestria/tesis/ML/venv/lib/python3.8/site-packages/PIL/Image.py:3011: DecompressionBombWarning: Image size (107259120 pixels) exceeds limit of 89478485 pixels, could be decompression bomb DOS attack.\n",
      "  warnings.warn(\n"
     ]
    },
    {
     "name": "stdout",
     "output_type": "stream",
     "text": [
      "Reading batch #1624, size: 0                                                        "
     ]
    },
    {
     "name": "stderr",
     "output_type": "stream",
     "text": [
      "/Users/SergioAndresRodriguezTorres/Documents/escuelaing/Maestria/tesis/ML/venv/lib/python3.8/site-packages/PIL/Image.py:3011: DecompressionBombWarning: Image size (98515170 pixels) exceeds limit of 89478485 pixels, could be decompression bomb DOS attack.\n",
      "  warnings.warn(\n"
     ]
    },
    {
     "name": "stdout",
     "output_type": "stream",
     "text": [
      "Reading batch #1646, size: 0                                                        "
     ]
    },
    {
     "name": "stderr",
     "output_type": "stream",
     "text": [
      "/Users/SergioAndresRodriguezTorres/Documents/escuelaing/Maestria/tesis/ML/venv/lib/python3.8/site-packages/PIL/TiffImagePlugin.py:845: UserWarning: Truncated File Read\n",
      "  warnings.warn(str(msg))\n"
     ]
    },
    {
     "name": "stdout",
     "output_type": "stream",
     "text": [
      "Reading batch #1665, size: 0                                                        "
     ]
    },
    {
     "name": "stderr",
     "output_type": "stream",
     "text": [
      "/Users/SergioAndresRodriguezTorres/Documents/escuelaing/Maestria/tesis/ML/venv/lib/python3.8/site-packages/PIL/Image.py:3011: DecompressionBombWarning: Image size (167091200 pixels) exceeds limit of 89478485 pixels, could be decompression bomb DOS attack.\n",
      "  warnings.warn(\n"
     ]
    },
    {
     "name": "stdout",
     "output_type": "stream",
     "text": [
      "Reading batch #1686, size: 0                                                        "
     ]
    },
    {
     "name": "stderr",
     "output_type": "stream",
     "text": [
      "/Users/SergioAndresRodriguezTorres/Documents/escuelaing/Maestria/tesis/ML/venv/lib/python3.8/site-packages/PIL/Image.py:3011: DecompressionBombWarning: Image size (139201551 pixels) exceeds limit of 89478485 pixels, could be decompression bomb DOS attack.\n",
      "  warnings.warn(\n"
     ]
    },
    {
     "name": "stdout",
     "output_type": "stream",
     "text": [
      "Reading batch #1722, size: 0                                                        "
     ]
    },
    {
     "name": "stderr",
     "output_type": "stream",
     "text": [
      "/Users/SergioAndresRodriguezTorres/Documents/escuelaing/Maestria/tesis/ML/venv/lib/python3.8/site-packages/PIL/Image.py:3011: DecompressionBombWarning: Image size (151093264 pixels) exceeds limit of 89478485 pixels, could be decompression bomb DOS attack.\n",
      "  warnings.warn(\n"
     ]
    },
    {
     "name": "stdout",
     "output_type": "stream",
     "text": [
      "Reading batch #1732, size: 0                                                        "
     ]
    },
    {
     "name": "stderr",
     "output_type": "stream",
     "text": [
      "/Users/SergioAndresRodriguezTorres/Documents/escuelaing/Maestria/tesis/ML/venv/lib/python3.8/site-packages/PIL/Image.py:3011: DecompressionBombWarning: Image size (139627983 pixels) exceeds limit of 89478485 pixels, could be decompression bomb DOS attack.\n",
      "  warnings.warn(\n"
     ]
    },
    {
     "name": "stdout",
     "output_type": "stream",
     "text": [
      "Reading batch #1741, size: 0                                                        "
     ]
    },
    {
     "name": "stderr",
     "output_type": "stream",
     "text": [
      "/Users/SergioAndresRodriguezTorres/Documents/escuelaing/Maestria/tesis/ML/venv/lib/python3.8/site-packages/PIL/Image.py:3011: DecompressionBombWarning: Image size (129918675 pixels) exceeds limit of 89478485 pixels, could be decompression bomb DOS attack.\n",
      "  warnings.warn(\n"
     ]
    },
    {
     "name": "stdout",
     "output_type": "stream",
     "text": [
      "Reading batch #1744, size: 0                                                        "
     ]
    },
    {
     "name": "stderr",
     "output_type": "stream",
     "text": [
      "/Users/SergioAndresRodriguezTorres/Documents/escuelaing/Maestria/tesis/ML/venv/lib/python3.8/site-packages/PIL/Image.py:3011: DecompressionBombWarning: Image size (100434480 pixels) exceeds limit of 89478485 pixels, could be decompression bomb DOS attack.\n",
      "  warnings.warn(\n"
     ]
    },
    {
     "name": "stdout",
     "output_type": "stream",
     "text": [
      "Reading batch #1765, size: 0                                                        "
     ]
    },
    {
     "name": "stderr",
     "output_type": "stream",
     "text": [
      "/Users/SergioAndresRodriguezTorres/Documents/escuelaing/Maestria/tesis/ML/venv/lib/python3.8/site-packages/PIL/Image.py:3011: DecompressionBombWarning: Image size (93268800 pixels) exceeds limit of 89478485 pixels, could be decompression bomb DOS attack.\n",
      "  warnings.warn(\n"
     ]
    },
    {
     "name": "stdout",
     "output_type": "stream",
     "text": [
      "Reading batch #1818, size: 0                                                        "
     ]
    },
    {
     "name": "stderr",
     "output_type": "stream",
     "text": [
      "/Users/SergioAndresRodriguezTorres/Documents/escuelaing/Maestria/tesis/ML/venv/lib/python3.8/site-packages/PIL/Image.py:3011: DecompressionBombWarning: Image size (142435636 pixels) exceeds limit of 89478485 pixels, could be decompression bomb DOS attack.\n",
      "  warnings.warn(\n"
     ]
    },
    {
     "name": "stdout",
     "output_type": "stream",
     "text": [
      "Reading batch #1847, size: 0                                                        "
     ]
    },
    {
     "name": "stderr",
     "output_type": "stream",
     "text": [
      "/Users/SergioAndresRodriguezTorres/Documents/escuelaing/Maestria/tesis/ML/venv/lib/python3.8/site-packages/PIL/Image.py:3011: DecompressionBombWarning: Image size (104642496 pixels) exceeds limit of 89478485 pixels, could be decompression bomb DOS attack.\n",
      "  warnings.warn(\n"
     ]
    },
    {
     "name": "stdout",
     "output_type": "stream",
     "text": [
      "Reading batch #1869, size: 0                                                        "
     ]
    },
    {
     "name": "stderr",
     "output_type": "stream",
     "text": [
      "/Users/SergioAndresRodriguezTorres/Documents/escuelaing/Maestria/tesis/ML/venv/lib/python3.8/site-packages/PIL/Image.py:3011: DecompressionBombWarning: Image size (100000000 pixels) exceeds limit of 89478485 pixels, could be decompression bomb DOS attack.\n",
      "  warnings.warn(\n"
     ]
    },
    {
     "name": "stdout",
     "output_type": "stream",
     "text": [
      "Reading batch #1913, size: 0                                                        "
     ]
    },
    {
     "name": "stderr",
     "output_type": "stream",
     "text": [
      "/Users/SergioAndresRodriguezTorres/Documents/escuelaing/Maestria/tesis/ML/venv/lib/python3.8/site-packages/PIL/Image.py:3011: DecompressionBombWarning: Image size (95002544 pixels) exceeds limit of 89478485 pixels, could be decompression bomb DOS attack.\n",
      "  warnings.warn(\n"
     ]
    },
    {
     "name": "stdout",
     "output_type": "stream",
     "text": [
      "Reading batch #1914, size: 0                                                       "
     ]
    },
    {
     "name": "stderr",
     "output_type": "stream",
     "text": [
      "/Users/SergioAndresRodriguezTorres/Documents/escuelaing/Maestria/tesis/ML/venv/lib/python3.8/site-packages/PIL/Image.py:3011: DecompressionBombWarning: Image size (104857600 pixels) exceeds limit of 89478485 pixels, could be decompression bomb DOS attack.\n",
      "  warnings.warn(\n"
     ]
    },
    {
     "name": "stdout",
     "output_type": "stream",
     "text": [
      "Reading batch #2061, size: 0                                                        "
     ]
    },
    {
     "name": "stderr",
     "output_type": "stream",
     "text": [
      "/Users/SergioAndresRodriguezTorres/Documents/escuelaing/Maestria/tesis/ML/venv/lib/python3.8/site-packages/PIL/Image.py:3011: DecompressionBombWarning: Image size (141276996 pixels) exceeds limit of 89478485 pixels, could be decompression bomb DOS attack.\n",
      "  warnings.warn(\n"
     ]
    },
    {
     "name": "stdout",
     "output_type": "stream",
     "text": [
      "Reading batch #2110, size: 0                                                        "
     ]
    },
    {
     "name": "stderr",
     "output_type": "stream",
     "text": [
      "/Users/SergioAndresRodriguezTorres/Documents/escuelaing/Maestria/tesis/ML/venv/lib/python3.8/site-packages/PIL/Image.py:3011: DecompressionBombWarning: Image size (93312000 pixels) exceeds limit of 89478485 pixels, could be decompression bomb DOS attack.\n",
      "  warnings.warn(\n"
     ]
    },
    {
     "name": "stdout",
     "output_type": "stream",
     "text": [
      "Reading batch #2112, size: 0                                                        "
     ]
    },
    {
     "name": "stderr",
     "output_type": "stream",
     "text": [
      "/Users/SergioAndresRodriguezTorres/Documents/escuelaing/Maestria/tesis/ML/venv/lib/python3.8/site-packages/PIL/Image.py:3011: DecompressionBombWarning: Image size (112266000 pixels) exceeds limit of 89478485 pixels, could be decompression bomb DOS attack.\n",
      "  warnings.warn(\n"
     ]
    },
    {
     "name": "stdout",
     "output_type": "stream",
     "text": [
      "Reading batch #2208, size: 0                                                        "
     ]
    },
    {
     "name": "stderr",
     "output_type": "stream",
     "text": [
      "/Users/SergioAndresRodriguezTorres/Documents/escuelaing/Maestria/tesis/ML/venv/lib/python3.8/site-packages/PIL/Image.py:3011: DecompressionBombWarning: Image size (95486400 pixels) exceeds limit of 89478485 pixels, could be decompression bomb DOS attack.\n",
      "  warnings.warn(\n"
     ]
    },
    {
     "name": "stdout",
     "output_type": "stream",
     "text": [
      "Reading batch #2437, size: 0                                                        "
     ]
    },
    {
     "name": "stderr",
     "output_type": "stream",
     "text": [
      "/Users/SergioAndresRodriguezTorres/Documents/escuelaing/Maestria/tesis/ML/venv/lib/python3.8/site-packages/PIL/Image.py:3011: DecompressionBombWarning: Image size (134640000 pixels) exceeds limit of 89478485 pixels, could be decompression bomb DOS attack.\n",
      "  warnings.warn(\n"
     ]
    },
    {
     "name": "stdout",
     "output_type": "stream",
     "text": [
      "Processing batch #2465, size: 1000                                                  "
     ]
    }
   ],
   "source": [
    "evaluate_model(dataset_folder, loaded_model, csv_writer, batch_size)\n",
    "csv_file.close()"
   ],
   "metadata": {
    "collapsed": false,
    "pycharm": {
     "name": "#%%\n"
    }
   }
  }
 ],
 "metadata": {
  "kernelspec": {
   "display_name": "Python 3",
   "language": "python",
   "name": "python3"
  },
  "language_info": {
   "codemirror_mode": {
    "name": "ipython",
    "version": 2
   },
   "file_extension": ".py",
   "mimetype": "text/x-python",
   "name": "python",
   "nbconvert_exporter": "python",
   "pygments_lexer": "ipython2",
   "version": "2.7.6"
  }
 },
 "nbformat": 4,
 "nbformat_minor": 0
}