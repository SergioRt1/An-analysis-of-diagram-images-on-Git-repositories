{
 "cells": [
  {
   "cell_type": "markdown",
   "source": [
    "# Predict dataset"
   ],
   "metadata": {
    "collapsed": false,
    "pycharm": {
     "name": "#%% md\n"
    }
   }
  },
  {
   "cell_type": "code",
   "execution_count": 1,
   "outputs": [],
   "source": [
    "import os\n",
    "import csv\n",
    "import cv2\n",
    "import shutil\n",
    "import warnings\n",
    "\n",
    "from tensorflow import keras\n",
    "import numpy as np"
   ],
   "metadata": {
    "collapsed": false,
    "pycharm": {
     "name": "#%%\n"
    }
   }
  },
  {
   "cell_type": "markdown",
   "source": [
    "Set logging to only error"
   ],
   "metadata": {
    "collapsed": false,
    "pycharm": {
     "name": "#%% md\n"
    }
   }
  },
  {
   "cell_type": "code",
   "execution_count": 2,
   "outputs": [],
   "source": [
    "os.environ['TF_CPP_MIN_LOG_LEVEL'] = '2'\n",
    "warnings.filterwarnings(\"ignore\")"
   ],
   "metadata": {
    "collapsed": false,
    "pycharm": {
     "name": "#%%\n"
    }
   }
  },
  {
   "cell_type": "markdown",
   "source": [
    "Prediction inputs"
   ],
   "metadata": {
    "collapsed": false,
    "pycharm": {
     "name": "#%% md\n"
    }
   }
  },
  {
   "cell_type": "code",
   "execution_count": 3,
   "outputs": [],
   "source": [
    "dataset_folder = 'data_set/'\n",
    "model_path = 'tuned.h5'\n",
    "result_csv_path = 'csv/results.csv'\n",
    "\n",
    "batch_size = 1000"
   ],
   "metadata": {
    "collapsed": false,
    "pycharm": {
     "name": "#%%\n"
    }
   }
  },
  {
   "cell_type": "code",
   "execution_count": 4,
   "outputs": [],
   "source": [
    "class_map = {\n",
    "    1: 'Activity Diagram',\n",
    "    2: 'Sequence Diagram',\n",
    "    3: 'Class Diagram',\n",
    "    4: 'Component Diagram',\n",
    "    5: 'Use Case Diagram',\n",
    "    6: 'Cloud',\n",
    "    0: 'None',\n",
    "}"
   ],
   "metadata": {
    "collapsed": false,
    "pycharm": {
     "name": "#%%\n"
    }
   }
  },
  {
   "cell_type": "markdown",
   "source": [
    "## Load Model"
   ],
   "metadata": {
    "collapsed": false,
    "pycharm": {
     "name": "#%% md\n"
    }
   }
  },
  {
   "cell_type": "code",
   "execution_count": 5,
   "outputs": [
    {
     "name": "stdout",
     "output_type": "stream",
     "text": [
      "Metal device set to: Apple M1 Pro\n"
     ]
    }
   ],
   "source": [
    "loaded_model = keras.models.load_model(model_path)"
   ],
   "metadata": {
    "collapsed": false,
    "pycharm": {
     "name": "#%%\n"
    }
   }
  },
  {
   "cell_type": "markdown",
   "source": [
    "## Read images from directory"
   ],
   "metadata": {
    "collapsed": false,
    "pycharm": {
     "name": "#%% md\n"
    }
   }
  },
  {
   "cell_type": "code",
   "execution_count": 6,
   "outputs": [],
   "source": [
    "def batch_listdir(path: str, size=1):\n",
    "    i = 0\n",
    "    batch_list = []\n",
    "    for element in os.scandir(path):\n",
    "        if i < size:\n",
    "            i += 1\n",
    "            batch_list.append(element)\n",
    "        else:\n",
    "            yield batch_list\n",
    "            i = 0\n",
    "            batch_list = []"
   ],
   "metadata": {
    "collapsed": false,
    "pycharm": {
     "name": "#%%\n"
    }
   }
  },
  {
   "cell_type": "markdown",
   "source": [
    "## Prediction"
   ],
   "metadata": {
    "collapsed": false,
    "pycharm": {
     "name": "#%% md\n"
    }
   }
  },
  {
   "cell_type": "code",
   "execution_count": 7,
   "outputs": [],
   "source": [
    "def evaluate_model(dataset_folder_path, model, writer, batch_size=1):\n",
    "    \"\"\"Loads a dataset of images\n",
    "        - dataset_folder_path is the path of the folder that contains the images\n",
    "        - csv_path is the path of the CSV file that contains the labels of the images\n",
    "        Returns: X_data, y_labeled\n",
    "        - X_data is a numpy.ndarray containing the pixel data of an image X\n",
    "        - y_labeled is a numpy.ndarray containing an int, the label Y for the image X in that index\n",
    "    \"\"\"\n",
    "    n = 0\n",
    "    processed_images = 0\n",
    "    for image_batch in batch_listdir(dataset_folder_path, batch_size):\n",
    "        X_data = []\n",
    "        not_loaded = []\n",
    "        print(f'\\rReading batch #{n}, size: {len(image_batch)}, processed images: {processed_images}', flush=True, end=' ' * 50)\n",
    "        for i in range(len(image_batch)):\n",
    "            image = get_normalize_image(image_batch[i].path)\n",
    "            if image is None:\n",
    "                not_loaded.append(i)\n",
    "            else:\n",
    "                processed_images += 1\n",
    "                X_data.append(image)\n",
    "\n",
    "        for i in not_loaded:\n",
    "            image_batch.pop(i)\n",
    "        X_data = np.array(X_data, dtype=np.uint8)\n",
    "        X_data = keras.applications.densenet.preprocess_input(X_data)\n",
    "        print(f'\\rProcessing batch #{n}, size: {len(X_data)}, processed images: {processed_images}', flush=True, end=' ' * 50)\n",
    "        prob = model.predict_on_batch(X_data)\n",
    "        bests = prob.argmax(axis=-1)\n",
    "        prob_text = [['{:.6f}'.format(v) for v in p] for p in prob]\n",
    "        rows = [[image_batch[i].name, str(bests[i])] + prob_text[i] for i in range(len(image_batch))]\n",
    "\n",
    "        writer.writerows(rows)\n",
    "        n += 1"
   ],
   "metadata": {
    "collapsed": false,
    "pycharm": {
     "name": "#%%\n"
    }
   }
  },
  {
   "cell_type": "code",
   "execution_count": 8,
   "outputs": [],
   "source": [
    "def get_normalize_image(path: str):\n",
    "    try:\n",
    "        img = keras.utils.load_img(path, target_size=(224, 224), interpolation=\"lanczos\")\n",
    "        img = keras.utils.img_to_array(img)\n",
    "\n",
    "        return img\n",
    "    except Exception as e:\n",
    "        pass"
   ],
   "metadata": {
    "collapsed": false,
    "pycharm": {
     "name": "#%%\n"
    }
   }
  },
  {
   "cell_type": "markdown",
   "source": [
    "### Create CSV to write th predictions"
   ],
   "metadata": {
    "collapsed": false,
    "pycharm": {
     "name": "#%% md\n"
    }
   }
  },
  {
   "cell_type": "code",
   "execution_count": 9,
   "outputs": [],
   "source": [
    "csv_file = open(result_csv_path, mode='w')\n",
    "csv_writer = csv.writer(csv_file)"
   ],
   "metadata": {
    "collapsed": false,
    "pycharm": {
     "name": "#%%\n"
    }
   }
  },
  {
   "cell_type": "markdown",
   "source": [
    "### Execute prediction"
   ],
   "metadata": {
    "collapsed": false,
    "pycharm": {
     "name": "#%% md\n"
    }
   }
  },
  {
   "cell_type": "code",
   "execution_count": 10,
   "outputs": [
    {
     "name": "stdout",
     "output_type": "stream",
     "text": [
      "Processing batch #2465, size: 1000, processed images: 2464274                                                  "
     ]
    }
   ],
   "source": [
    "evaluate_model(dataset_folder, loaded_model, csv_writer, batch_size)\n",
    "csv_file.close()"
   ],
   "metadata": {
    "collapsed": false,
    "pycharm": {
     "name": "#%%\n"
    }
   }
  },
  {
   "cell_type": "markdown",
   "source": [
    "## Validate results"
   ],
   "metadata": {
    "collapsed": false,
    "pycharm": {
     "name": "#%% md\n"
    }
   }
  },
  {
   "cell_type": "code",
   "execution_count": 11,
   "outputs": [],
   "source": [
    "def validate_predictions(csv_path: str, new_csv_path: str, dest_folder: str, show: bool):\n",
    "    new_dataset_file = open(new_csv_path, 'w', newline='')\n",
    "    dataset_extra = csv.writer(new_dataset_file)\n",
    "    with open(csv_path, mode='r') as file:\n",
    "        csv_reader = csv.reader(file, delimiter=',')\n",
    "        counter = 0\n",
    "        found = 0\n",
    "        for line in csv_reader:\n",
    "            if counter % 1000 == 0:\n",
    "                print(f'\\rEvaluation #{counter}', flush=True, end='')\n",
    "            category = int(line[1])\n",
    "            prob = float(line[category + 2])\n",
    "            image_name = line[0]\n",
    "            counter += 1\n",
    "\n",
    "            if prob < 0.3:\n",
    "                found += 1\n",
    "                if show:\n",
    "                    image_path = f'{dataset_folder}{image_name}'\n",
    "                    image = cv2.imread(image_path, cv2.IMREAD_ANYCOLOR)\n",
    "                    cv2.imshow(f'{category}: {class_map[category]}, {prob:.3f}', image)\n",
    "                    key = cv2.waitKey(0) & 0xFF\n",
    "                    cv2.destroyAllWindows()\n",
    "                    if ord('0') <= key <= ord('9') :\n",
    "                        shutil.copy(image_path, os.path.join(dest_folder, image_name))\n",
    "                        dataset_extra.writerow([image_name, chr(key)])\n",
    "        print(f'\\nFound: {found}')\n"
   ],
   "metadata": {
    "collapsed": false,
    "pycharm": {
     "name": "#%%\n"
    }
   }
  },
  {
   "cell_type": "code",
   "execution_count": 12,
   "outputs": [
    {
     "name": "stdout",
     "output_type": "stream",
     "text": [
      "Evaluation #772000"
     ]
    },
    {
     "name": "stderr",
     "output_type": "stream",
     "text": [
      "libpng warning: iCCP: known incorrect sRGB profile\n"
     ]
    },
    {
     "name": "stdout",
     "output_type": "stream",
     "text": [
      "Evaluation #865000"
     ]
    },
    {
     "name": "stderr",
     "output_type": "stream",
     "text": [
      "libpng warning: iCCP: known incorrect sRGB profile\n"
     ]
    },
    {
     "name": "stdout",
     "output_type": "stream",
     "text": [
      "Evaluation #1542000"
     ]
    },
    {
     "name": "stderr",
     "output_type": "stream",
     "text": [
      "libpng warning: iCCP: known incorrect sRGB profile\n"
     ]
    },
    {
     "name": "stdout",
     "output_type": "stream",
     "text": [
      "Evaluation #2212000"
     ]
    },
    {
     "name": "stderr",
     "output_type": "stream",
     "text": [
      "libpng warning: iCCP: known incorrect sRGB profile\n"
     ]
    },
    {
     "name": "stdout",
     "output_type": "stream",
     "text": [
      "Evaluation #2464000\n",
      "Found: 224\n"
     ]
    }
   ],
   "source": [
    "validate_predictions(result_csv_path, 'csv/extra_images.csv', 'toProcess/', True)"
   ],
   "metadata": {
    "collapsed": false,
    "pycharm": {
     "name": "#%%\n"
    }
   }
  }
 ],
 "metadata": {
  "kernelspec": {
   "display_name": "Python 3",
   "language": "python",
   "name": "python3"
  },
  "language_info": {
   "codemirror_mode": {
    "name": "ipython",
    "version": 2
   },
   "file_extension": ".py",
   "mimetype": "text/x-python",
   "name": "python",
   "nbconvert_exporter": "python",
   "pygments_lexer": "ipython2",
   "version": "2.7.6"
  }
 },
 "nbformat": 4,
 "nbformat_minor": 0
}